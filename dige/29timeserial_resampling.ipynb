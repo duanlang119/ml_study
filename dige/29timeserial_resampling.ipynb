{
 "cells": [
  {
   "cell_type": "code",
   "execution_count": 1,
   "metadata": {
    "collapsed": true
   },
   "outputs": [],
   "source": [
    "import pandas as pd\n",
    "import numpy as np"
   ]
  },
  {
   "cell_type": "code",
   "execution_count": 2,
   "outputs": [
    {
     "data": {
      "text/plain": "2021-01-01    0.304848\n2021-01-02    0.679927\n2021-01-03   -0.685848\n2021-01-04   -0.563721\n2021-01-05   -0.253124\nFreq: D, dtype: float64"
     },
     "execution_count": 2,
     "metadata": {},
     "output_type": "execute_result"
    }
   ],
   "source": [
    "rng=pd.date_range('1/1/2021',periods=90,freq='D')\n",
    "ts = pd.Series(np.random.randn(len(rng)),index=rng)\n",
    "ts.head()"
   ],
   "metadata": {
    "collapsed": false,
    "pycharm": {
     "name": "#%%\n"
    }
   }
  },
  {
   "cell_type": "code",
   "execution_count": 3,
   "outputs": [
    {
     "data": {
      "text/plain": "2021-01-31    2.776783\n2021-02-28    5.352036\n2021-03-31    6.641652\nFreq: M, dtype: float64"
     },
     "execution_count": 3,
     "metadata": {},
     "output_type": "execute_result"
    }
   ],
   "source": [
    "ts.resample('M').sum()"
   ],
   "metadata": {
    "collapsed": false,
    "pycharm": {
     "name": "#%%\n"
    }
   }
  },
  {
   "cell_type": "code",
   "execution_count": 4,
   "outputs": [
    {
     "data": {
      "text/plain": "2021-01-01    0.298927\n2021-01-04   -2.067037\n2021-01-07    1.032841\n2021-01-10    1.064761\n2021-01-13    1.149550\n2021-01-16   -0.239291\n2021-01-19   -0.962293\n2021-01-22    0.320232\n2021-01-25    2.692579\n2021-01-28   -1.275791\n2021-01-31    2.322229\n2021-02-03    1.310705\n2021-02-06   -1.344666\n2021-02-09   -0.442030\n2021-02-12    0.405925\n2021-02-15    1.694318\n2021-02-18    2.010975\n2021-02-21    0.473013\n2021-02-24   -0.225505\n2021-02-27   -1.531634\n2021-03-02    2.113051\n2021-03-05   -1.125021\n2021-03-08    1.862685\n2021-03-11    3.202937\n2021-03-14    1.849990\n2021-03-17    0.758859\n2021-03-20    2.415980\n2021-03-23   -1.290335\n2021-03-26   -1.261453\n2021-03-29   -0.444029\nFreq: 3D, dtype: float64"
     },
     "execution_count": 4,
     "metadata": {},
     "output_type": "execute_result"
    }
   ],
   "source": [
    "ts.resample('3D').sum()"
   ],
   "metadata": {
    "collapsed": false,
    "pycharm": {
     "name": "#%%\n"
    }
   }
  },
  {
   "cell_type": "code",
   "execution_count": 5,
   "outputs": [
    {
     "data": {
      "text/plain": "2021-01-01    0.099642\n2021-01-04   -0.689012\n2021-01-07    0.344280\n2021-01-10    0.354920\n2021-01-13    0.383183\n2021-01-16   -0.079764\n2021-01-19   -0.320764\n2021-01-22    0.106744\n2021-01-25    0.897526\n2021-01-28   -0.425264\n2021-01-31    0.774076\n2021-02-03    0.436902\n2021-02-06   -0.448222\n2021-02-09   -0.147343\n2021-02-12    0.135308\n2021-02-15    0.564773\n2021-02-18    0.670325\n2021-02-21    0.157671\n2021-02-24   -0.075168\n2021-02-27   -0.510545\n2021-03-02    0.704350\n2021-03-05   -0.375007\n2021-03-08    0.620895\n2021-03-11    1.067646\n2021-03-14    0.616663\n2021-03-17    0.252953\n2021-03-20    0.805327\n2021-03-23   -0.430112\n2021-03-26   -0.420484\n2021-03-29   -0.148010\nFreq: 3D, dtype: float64"
     },
     "execution_count": 5,
     "metadata": {},
     "output_type": "execute_result"
    }
   ],
   "source": [
    "day3Ts = ts.resample('3D').mean()\n",
    "day3Ts"
   ],
   "metadata": {
    "collapsed": false,
    "pycharm": {
     "name": "#%%\n"
    }
   }
  },
  {
   "cell_type": "code",
   "execution_count": 6,
   "outputs": [
    {
     "name": "stdout",
     "output_type": "stream",
     "text": [
      "2021-01-01    0.099642\n",
      "2021-01-02         NaN\n",
      "2021-01-03         NaN\n",
      "2021-01-04   -0.689012\n",
      "2021-01-05         NaN\n",
      "                ...   \n",
      "2021-03-25         NaN\n",
      "2021-03-26   -0.420484\n",
      "2021-03-27         NaN\n",
      "2021-03-28         NaN\n",
      "2021-03-29   -0.148010\n",
      "Freq: D, Length: 88, dtype: float64\n"
     ]
    }
   ],
   "source": [
    "print(day3Ts.resample('D').asfreq())"
   ],
   "metadata": {
    "collapsed": false,
    "pycharm": {
     "name": "#%%\n"
    }
   }
  },
  {
   "cell_type": "code",
   "execution_count": 10,
   "outputs": [
    {
     "data": {
      "text/plain": "2021-01-01    0.099642\n2021-01-02    0.099642\n2021-01-03         NaN\n2021-01-04   -0.689012\n2021-01-05   -0.689012\n                ...   \n2021-03-25         NaN\n2021-03-26   -0.420484\n2021-03-27   -0.420484\n2021-03-28         NaN\n2021-03-29   -0.148010\nFreq: D, Length: 88, dtype: float64"
     },
     "execution_count": 10,
     "metadata": {},
     "output_type": "execute_result"
    }
   ],
   "source": [
    "day3Ts.resample('D').ffill(1)"
   ],
   "metadata": {
    "collapsed": false,
    "pycharm": {
     "name": "#%%\n"
    }
   }
  },
  {
   "cell_type": "code",
   "execution_count": 11,
   "outputs": [
    {
     "data": {
      "text/plain": "2021-01-01    0.099642\n2021-01-02   -0.163242\n2021-01-03   -0.426127\n2021-01-04   -0.689012\n2021-01-05   -0.344581\n                ...   \n2021-03-25   -0.423693\n2021-03-26   -0.420484\n2021-03-27   -0.329659\n2021-03-28   -0.238835\n2021-03-29   -0.148010\nFreq: D, Length: 88, dtype: float64"
     },
     "execution_count": 11,
     "metadata": {},
     "output_type": "execute_result"
    }
   ],
   "source": [
    "day3Ts.resample('D').interpolate('linear')\n"
   ],
   "metadata": {
    "collapsed": false,
    "pycharm": {
     "name": "#%%\n"
    }
   }
  }
 ],
 "metadata": {
  "kernelspec": {
   "display_name": "Python 3",
   "language": "python",
   "name": "python3"
  },
  "language_info": {
   "codemirror_mode": {
    "name": "ipython",
    "version": 2
   },
   "file_extension": ".py",
   "mimetype": "text/x-python",
   "name": "python",
   "nbconvert_exporter": "python",
   "pygments_lexer": "ipython2",
   "version": "2.7.6"
  }
 },
 "nbformat": 4,
 "nbformat_minor": 0
}