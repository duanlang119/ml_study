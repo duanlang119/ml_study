{
 "cells": [
  {
   "cell_type": "code",
   "execution_count": 2,
   "metadata": {
    "collapsed": true
   },
   "outputs": [],
   "source": [
    "import pandas as pd\n",
    "import numpy as np\n",
    "\n"
   ]
  },
  {
   "cell_type": "code",
   "execution_count": 3,
   "outputs": [
    {
     "data": {
      "text/plain": "DatetimeIndex(['2021-07-01', '2021-07-02', '2021-07-03', '2021-07-04',\n               '2021-07-05', '2021-07-06', '2021-07-07', '2021-07-08',\n               '2021-07-09', '2021-07-10'],\n              dtype='datetime64[ns]', freq='D')"
     },
     "execution_count": 3,
     "metadata": {},
     "output_type": "execute_result"
    }
   ],
   "source": [
    "rng = pd.date_range('2021/07/01',periods=10,freq='D')\n",
    "rng"
   ],
   "metadata": {
    "collapsed": false,
    "pycharm": {
     "name": "#%%\n"
    }
   }
  },
  {
   "cell_type": "code",
   "execution_count": 4,
   "outputs": [
    {
     "name": "stdout",
     "output_type": "stream",
     "text": [
      "2021-07-01    0.273642\n",
      "2021-07-02    0.389891\n",
      "2021-07-03    0.888293\n",
      "2021-07-04    0.044623\n",
      "2021-07-05    0.057988\n",
      "2021-07-06    0.879442\n",
      "2021-07-07    0.799435\n",
      "2021-07-08    0.335618\n",
      "2021-07-09    0.065264\n",
      "2021-07-10    0.702264\n",
      "2021-07-11    0.902887\n",
      "2021-07-12    0.622202\n",
      "2021-07-13    0.543509\n",
      "2021-07-14    0.453299\n",
      "2021-07-15    0.353343\n",
      "2021-07-16    0.382901\n",
      "2021-07-17    0.573378\n",
      "2021-07-18    0.083427\n",
      "2021-07-19    0.786368\n",
      "2021-07-20    0.463336\n",
      "Freq: D, dtype: float64\n"
     ]
    }
   ],
   "source": [
    "time=pd.Series(np.random.random(20),index=pd.date_range('2021/07/01',periods=20))\n",
    "print(time)"
   ],
   "metadata": {
    "collapsed": false,
    "pycharm": {
     "name": "#%%\n"
    }
   }
  },
  {
   "cell_type": "code",
   "execution_count": 5,
   "outputs": [
    {
     "name": "stdout",
     "output_type": "stream",
     "text": [
      "0.7863677507743004\n"
     ]
    }
   ],
   "source": [
    "print(time['2021-07-19'])"
   ],
   "metadata": {
    "collapsed": false,
    "pycharm": {
     "name": "#%%\n"
    }
   }
  },
  {
   "cell_type": "code",
   "execution_count": 6,
   "outputs": [
    {
     "name": "stdout",
     "output_type": "stream",
     "text": [
      "2021-07-14    0.453299\n",
      "2021-07-15    0.353343\n",
      "2021-07-16    0.382901\n",
      "2021-07-17    0.573378\n",
      "2021-07-18    0.083427\n",
      "2021-07-19    0.786368\n",
      "Freq: D, dtype: float64\n"
     ]
    }
   ],
   "source": [
    "print(time['2021-07-14':'2021-07-19'])"
   ],
   "metadata": {
    "collapsed": false,
    "pycharm": {
     "name": "#%%\n"
    }
   }
  },
  {
   "cell_type": "code",
   "execution_count": 7,
   "outputs": [
    {
     "name": "stdout",
     "output_type": "stream",
     "text": [
      "DatetimeIndex(['2020-01-31', '2020-02-29', '2020-03-31', '2020-04-30',\n",
      "               '2020-05-31', '2020-06-30', '2020-07-31', '2020-08-31',\n",
      "               '2020-09-30', '2020-10-31', '2020-11-30', '2020-12-31'],\n",
      "              dtype='datetime64[ns]', freq='M')\n"
     ]
    }
   ],
   "source": [
    "data=pd.date_range('2020-01-01','2021-01-01',freq='M')\n",
    "print(data)"
   ],
   "metadata": {
    "collapsed": false,
    "pycharm": {
     "name": "#%%\n"
    }
   }
  },
  {
   "cell_type": "code",
   "execution_count": 8,
   "outputs": [
    {
     "data": {
      "text/plain": "Timestamp('2020-01-01 00:00:00')"
     },
     "execution_count": 8,
     "metadata": {},
     "output_type": "execute_result"
    }
   ],
   "source": [
    "# 时间戳\n",
    "pd.Timestamp('2020-01-01')\n"
   ],
   "metadata": {
    "collapsed": false,
    "pycharm": {
     "name": "#%%\n"
    }
   }
  },
  {
   "cell_type": "code",
   "execution_count": 9,
   "outputs": [
    {
     "data": {
      "text/plain": "2021-07-10    0.702264\n2021-07-11    0.902887\n2021-07-12    0.622202\n2021-07-13    0.543509\n2021-07-14    0.453299\n2021-07-15    0.353343\n2021-07-16    0.382901\n2021-07-17    0.573378\n2021-07-18    0.083427\n2021-07-19    0.786368\n2021-07-20    0.463336\nFreq: D, dtype: float64"
     },
     "execution_count": 9,
     "metadata": {},
     "output_type": "execute_result"
    }
   ],
   "source": [
    "#truncate过滤\n",
    "time.truncate(before='2021-7-10')"
   ],
   "metadata": {
    "collapsed": false,
    "pycharm": {
     "name": "#%%\n"
    }
   }
  },
  {
   "cell_type": "code",
   "execution_count": 10,
   "outputs": [
    {
     "data": {
      "text/plain": "2021-07-01    0.273642\n2021-07-02    0.389891\n2021-07-03    0.888293\n2021-07-04    0.044623\n2021-07-05    0.057988\n2021-07-06    0.879442\n2021-07-07    0.799435\n2021-07-08    0.335618\n2021-07-09    0.065264\n2021-07-10    0.702264\nFreq: D, dtype: float64"
     },
     "execution_count": 10,
     "metadata": {},
     "output_type": "execute_result"
    }
   ],
   "source": [
    "time.truncate(after='2021-7-10')"
   ],
   "metadata": {
    "collapsed": false,
    "pycharm": {
     "name": "#%%\n"
    }
   }
  },
  {
   "cell_type": "code",
   "execution_count": 11,
   "outputs": [
    {
     "data": {
      "text/plain": "Period('2021-01', 'M')"
     },
     "execution_count": 11,
     "metadata": {},
     "output_type": "execute_result"
    }
   ],
   "source": [
    "# 时间区间\n",
    "pd.Period('2021-01')"
   ],
   "metadata": {
    "collapsed": false,
    "pycharm": {
     "name": "#%%\n"
    }
   }
  },
  {
   "cell_type": "code",
   "execution_count": 12,
   "outputs": [
    {
     "data": {
      "text/plain": "Period('2021-01-01', 'D')"
     },
     "execution_count": 12,
     "metadata": {},
     "output_type": "execute_result"
    }
   ],
   "source": [
    "pd.Period('2021-01-01')"
   ],
   "metadata": {
    "collapsed": false,
    "pycharm": {
     "name": "#%%\n"
    }
   }
  },
  {
   "cell_type": "code",
   "execution_count": 13,
   "outputs": [
    {
     "data": {
      "text/plain": "Timedelta('1 days 00:00:00')"
     },
     "execution_count": 13,
     "metadata": {},
     "output_type": "execute_result"
    }
   ],
   "source": [
    "# time offsets\n",
    "pd.Timedelta('1 day')"
   ],
   "metadata": {
    "collapsed": false,
    "pycharm": {
     "name": "#%%\n"
    }
   }
  },
  {
   "cell_type": "code",
   "execution_count": 14,
   "outputs": [
    {
     "data": {
      "text/plain": "Period('2021-01-02 10:10', 'T')"
     },
     "execution_count": 14,
     "metadata": {},
     "output_type": "execute_result"
    }
   ],
   "source": [
    "pd.Period('2021-01-01 10:10') + pd.Timedelta('1 day')"
   ],
   "metadata": {
    "collapsed": false,
    "pycharm": {
     "name": "#%%\n"
    }
   }
  },
  {
   "cell_type": "code",
   "execution_count": 15,
   "outputs": [
    {
     "data": {
      "text/plain": "Timestamp('2021-01-02 10:10:00')"
     },
     "execution_count": 15,
     "metadata": {},
     "output_type": "execute_result"
    }
   ],
   "source": [
    "pd.Timestamp('2021-01-01 10:10') + pd.Timedelta('1 day')"
   ],
   "metadata": {
    "collapsed": false,
    "pycharm": {
     "name": "#%%\n"
    }
   }
  },
  {
   "cell_type": "code",
   "execution_count": 16,
   "outputs": [
    {
     "data": {
      "text/plain": "Timestamp('2021-01-01 10:10:00.000000015')"
     },
     "execution_count": 16,
     "metadata": {},
     "output_type": "execute_result"
    }
   ],
   "source": [
    "pd.Timestamp('2021-01-01 10:10') + pd.Timedelta('15 ns')"
   ],
   "metadata": {
    "collapsed": false,
    "pycharm": {
     "name": "#%%\n"
    }
   }
  },
  {
   "cell_type": "code",
   "execution_count": 17,
   "outputs": [],
   "source": [
    "p1=pd.period_range('2021-01-01 10:10',freq='25H',periods=10)"
   ],
   "metadata": {
    "collapsed": false,
    "pycharm": {
     "name": "#%%\n"
    }
   }
  },
  {
   "cell_type": "code",
   "execution_count": 18,
   "outputs": [],
   "source": [
    "p2=pd.period_range('2021-01-01 10:10',freq='1D1H',periods=10)"
   ],
   "metadata": {
    "collapsed": false,
    "pycharm": {
     "name": "#%%\n"
    }
   }
  },
  {
   "cell_type": "code",
   "execution_count": 19,
   "outputs": [
    {
     "data": {
      "text/plain": "PeriodIndex(['2021-01-01 10:00', '2021-01-02 11:00', '2021-01-03 12:00',\n             '2021-01-04 13:00', '2021-01-05 14:00', '2021-01-06 15:00',\n             '2021-01-07 16:00', '2021-01-08 17:00', '2021-01-09 18:00',\n             '2021-01-10 19:00'],\n            dtype='period[25H]', freq='25H')"
     },
     "execution_count": 19,
     "metadata": {},
     "output_type": "execute_result"
    }
   ],
   "source": [
    "p1"
   ],
   "metadata": {
    "collapsed": false,
    "pycharm": {
     "name": "#%%\n"
    }
   }
  },
  {
   "cell_type": "code",
   "execution_count": 20,
   "outputs": [
    {
     "data": {
      "text/plain": "PeriodIndex(['2021-01-01 10:00', '2021-01-02 11:00', '2021-01-03 12:00',\n             '2021-01-04 13:00', '2021-01-05 14:00', '2021-01-06 15:00',\n             '2021-01-07 16:00', '2021-01-08 17:00', '2021-01-09 18:00',\n             '2021-01-10 19:00'],\n            dtype='period[25H]', freq='25H')"
     },
     "execution_count": 20,
     "metadata": {},
     "output_type": "execute_result"
    }
   ],
   "source": [
    "p2"
   ],
   "metadata": {
    "collapsed": false,
    "pycharm": {
     "name": "#%%\n"
    }
   }
  },
  {
   "cell_type": "code",
   "execution_count": 21,
   "outputs": [
    {
     "data": {
      "text/plain": "2021-07-01    0\n2021-07-02    1\n2021-07-03    2\n2021-07-04    3\n2021-07-05    4\n2021-07-06    5\n2021-07-07    6\n2021-07-08    7\n2021-07-09    8\n2021-07-10    9\nFreq: D, dtype: int64"
     },
     "execution_count": 21,
     "metadata": {},
     "output_type": "execute_result"
    }
   ],
   "source": [
    "# 指定索引\n",
    "rng=pd.date_range('2021 Jul 1',periods=10,freq='D')\n",
    "rng\n",
    "pd.Series(range(len(rng)),index=rng)"
   ],
   "metadata": {
    "collapsed": false,
    "pycharm": {
     "name": "#%%\n"
    }
   }
  },
  {
   "cell_type": "code",
   "execution_count": 22,
   "outputs": [
    {
     "data": {
      "text/plain": "2021-01    0.160441\n2021-02   -0.733768\n2021-03    0.352999\nFreq: M, dtype: float64"
     },
     "execution_count": 22,
     "metadata": {},
     "output_type": "execute_result"
    }
   ],
   "source": [
    "periods = [pd.Period('2021-01'),pd.Period('2021-02'),pd.Period('2021-03')]\n",
    "ts = pd.Series(np.random.randn(len(periods)),index=periods)\n",
    "ts"
   ],
   "metadata": {
    "collapsed": false,
    "pycharm": {
     "name": "#%%\n"
    }
   }
  },
  {
   "cell_type": "code",
   "execution_count": 23,
   "outputs": [
    {
     "data": {
      "text/plain": "pandas.core.indexes.period.PeriodIndex"
     },
     "execution_count": 23,
     "metadata": {},
     "output_type": "execute_result"
    }
   ],
   "source": [
    "type(ts.index)"
   ],
   "metadata": {
    "collapsed": false,
    "pycharm": {
     "name": "#%%\n"
    }
   }
  },
  {
   "cell_type": "code",
   "execution_count": 24,
   "outputs": [
    {
     "data": {
      "text/plain": "2021-07-10 08:00:00    0\n2021-07-10 09:00:00    1\n2021-07-10 10:00:00    2\n2021-07-10 11:00:00    3\n2021-07-10 12:00:00    4\n2021-07-10 13:00:00    5\n2021-07-10 14:00:00    6\n2021-07-10 15:00:00    7\n2021-07-10 16:00:00    8\n2021-07-10 17:00:00    9\nFreq: H, dtype: int64"
     },
     "execution_count": 24,
     "metadata": {},
     "output_type": "execute_result"
    }
   ],
   "source": [
    "# 时间戳和时间周期可以转换\n",
    "ts = pd.Series(range(10),pd.date_range('07-10-21 8:00',periods=10,freq='H'))\n",
    "ts"
   ],
   "metadata": {
    "collapsed": false,
    "pycharm": {
     "name": "#%%\n"
    }
   }
  },
  {
   "cell_type": "code",
   "execution_count": 26,
   "outputs": [
    {
     "data": {
      "text/plain": "2021-07-10 09:00:00    1\n2021-07-10 10:00:00    2\n2021-07-10 11:00:00    3\nFreq: H, dtype: int64"
     },
     "execution_count": 26,
     "metadata": {},
     "output_type": "execute_result"
    }
   ],
   "source": [
    "ts['2021-07-10 08:30':'2021-07-10 11:45']"
   ],
   "metadata": {
    "collapsed": false,
    "pycharm": {
     "name": "#%%\n"
    }
   }
  }
 ],
 "metadata": {
  "kernelspec": {
   "name": "pt38",
   "language": "python",
   "display_name": "pt38"
  },
  "language_info": {
   "codemirror_mode": {
    "name": "ipython",
    "version": 2
   },
   "file_extension": ".py",
   "mimetype": "text/x-python",
   "name": "python",
   "nbconvert_exporter": "python",
   "pygments_lexer": "ipython2",
   "version": "2.7.6"
  }
 },
 "nbformat": 4,
 "nbformat_minor": 0
}