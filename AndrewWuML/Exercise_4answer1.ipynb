{
 "cells": [
  {
   "cell_type": "code",
   "execution_count": 52,
   "metadata": {
    "collapsed": true
   },
   "outputs": [],
   "source": [
    "import numpy as np\n",
    "import pandas as pd\n",
    "import matplotlib.pyplot as plt\n",
    "import matplotlib\n",
    "from scipy.io import loadmat\n",
    "\n"
   ]
  },
  {
   "cell_type": "code",
   "execution_count": 54,
   "outputs": [
    {
     "data": {
      "text/plain": "{'__header__': b'MATLAB 5.0 MAT-file, Platform: GLNXA64, Created on: Sun Oct 16 13:09:09 2011',\n '__version__': '1.0',\n '__globals__': [],\n 'X': array([[0., 0., 0., ..., 0., 0., 0.],\n        [0., 0., 0., ..., 0., 0., 0.],\n        [0., 0., 0., ..., 0., 0., 0.],\n        ...,\n        [0., 0., 0., ..., 0., 0., 0.],\n        [0., 0., 0., ..., 0., 0., 0.],\n        [0., 0., 0., ..., 0., 0., 0.]]),\n 'y': array([[10],\n        [10],\n        [10],\n        ...,\n        [ 9],\n        [ 9],\n        [ 9]], dtype=uint8)}"
     },
     "execution_count": 54,
     "metadata": {},
     "output_type": "execute_result"
    }
   ],
   "source": [
    "data=loadmat('ex4data1.mat') #加载数据\n",
    "data"
   ],
   "metadata": {
    "collapsed": false,
    "pycharm": {
     "name": "#%%\n"
    }
   }
  },
  {
   "cell_type": "code",
   "execution_count": 38,
   "outputs": [
    {
     "data": {
      "text/plain": "((5000, 400), (5000, 1))"
     },
     "execution_count": 38,
     "metadata": {},
     "output_type": "execute_result"
    }
   ],
   "source": [
    "X=data['X']\n",
    "y=data['y']\n",
    "X.shape,y.shape"
   ],
   "metadata": {
    "collapsed": false,
    "pycharm": {
     "name": "#%%\n"
    }
   }
  },
  {
   "cell_type": "code",
   "execution_count": 55,
   "outputs": [
    {
     "data": {
      "text/plain": "(5000, 10)"
     },
     "execution_count": 55,
     "metadata": {},
     "output_type": "execute_result"
    }
   ],
   "source": [
    "from sklearn.preprocessing import OneHotEncoder\n",
    "encoder=OneHotEncoder(sparse=False)\n",
    "y_onehot=encoder.fit_transform(y)\n",
    "y_onehot.shape"
   ],
   "metadata": {
    "collapsed": false,
    "pycharm": {
     "name": "#%%\n"
    }
   }
  },
  {
   "cell_type": "code",
   "execution_count": 56,
   "outputs": [
    {
     "data": {
      "text/plain": "(matrix([[10]], dtype=uint8), array([0., 0., 0., 0., 0., 0., 0., 0., 0., 1.]))"
     },
     "execution_count": 56,
     "metadata": {},
     "output_type": "execute_result"
    }
   ],
   "source": [
    "y[0],y_onehot[0,:]"
   ],
   "metadata": {
    "collapsed": false,
    "pycharm": {
     "name": "#%%\n"
    }
   }
  },
  {
   "cell_type": "markdown",
   "source": [
    "## sigmoid函数"
   ],
   "metadata": {
    "collapsed": false
   }
  },
  {
   "cell_type": "code",
   "execution_count": 57,
   "outputs": [],
   "source": [
    "def sigmoid(z):\n",
    "    return 1/(1+np.exp(-z))"
   ],
   "metadata": {
    "collapsed": false,
    "pycharm": {
     "name": "#%%\n"
    }
   }
  },
  {
   "cell_type": "markdown",
   "source": [
    "##前向传播\n",
    "（400+1）->(25+1)->(10)"
   ],
   "metadata": {
    "collapsed": false
   }
  },
  {
   "cell_type": "code",
   "execution_count": 58,
   "outputs": [],
   "source": [
    "def forward_propagate(X,theta1,theta2):\n",
    "    m=X.shape[0]\n",
    "\n",
    "    a1=np.insert(X,0,values=np.ones(m),axis=1)\n",
    "    z2=a1 *theta1.T\n",
    "    a2=np.insert(sigmoid(z2),0,values=np.ones(m),axis=1)\n",
    "    z3=a2 *theta2.T\n",
    "    h=sigmoid(z3)\n",
    "    return a1,z2,a2,z3,h"
   ],
   "metadata": {
    "collapsed": false,
    "pycharm": {
     "name": "#%%\n"
    }
   }
  },
  {
   "cell_type": "markdown",
   "source": [
    "##代价函数"
   ],
   "metadata": {
    "collapsed": false
   }
  },
  {
   "cell_type": "code",
   "execution_count": 59,
   "outputs": [],
   "source": [
    "def cost(params,input_size,hidden_size,num_labels,X,y,lam):\n",
    "    m=X.shape[0]\n",
    "\n",
    "    X=np.matrix(X)\n",
    "    y=np.matrix(y)\n",
    "\n",
    "    theta1=np.matrix(np.reshape(params[:hidden_size * (input_size+1)],(hidden_size,(input_size+1))))\n",
    "    theta2=np.matrix(np.reshape(params[hidden_size * (input_size+1):],(num_labels,(hidden_size+1))))\n",
    "\n",
    "    a1,z2,a2,z3,h  = forward_propagate(X,theta1,theta2)\n",
    "\n",
    "    J=0\n",
    "    for i in range(m):\n",
    "        first_term=np.multiply(-y[i,:],np.log(h[i,:]))\n",
    "        second_term=np.multiply((1-y[i,:]),np.log(1-h[i,:]))\n",
    "        J+=np.sum(first_term-second_term)\n",
    "\n",
    "    J=J/m\n",
    "    J+=(float(lam)/(2*m))*(np.sum(np.power(theta1[:,1:],2))+np.sum(np.power(theta2[:,1:],2)))\n",
    "    return J"
   ],
   "metadata": {
    "collapsed": false,
    "pycharm": {
     "name": "#%%\n"
    }
   }
  },
  {
   "cell_type": "code",
   "execution_count": 60,
   "outputs": [
    {
     "data": {
      "text/plain": "((25, 401), (10, 26))"
     },
     "execution_count": 60,
     "metadata": {},
     "output_type": "execute_result"
    }
   ],
   "source": [
    "input_size=400\n",
    "hidden_size=25\n",
    "num_labels=10\n",
    "lam=1\n",
    "\n",
    "params=(np.random.random(size=hidden_size*(input_size+1)+num_labels*(hidden_size+1))-0.5)*0.25\n",
    "\n",
    "m=X.shape[0]\n",
    "X=np.matrix(X)\n",
    "y=np.matrix(y)\n",
    "\n",
    "theta1=np.matrix(np.reshape(params[:hidden_size * (input_size+1)],(hidden_size,(input_size+1))))\n",
    "theta2=np.matrix(np.reshape(params[hidden_size * (input_size+1):],(num_labels,(hidden_size+1))))\n",
    "\n",
    "theta1.shape,theta2.shape"
   ],
   "metadata": {
    "collapsed": false,
    "pycharm": {
     "name": "#%%\n"
    }
   }
  },
  {
   "cell_type": "code",
   "execution_count": 61,
   "outputs": [
    {
     "data": {
      "text/plain": "((5000, 401), (5000, 25), (5000, 26), (5000, 10), (5000, 10))"
     },
     "execution_count": 61,
     "metadata": {},
     "output_type": "execute_result"
    }
   ],
   "source": [
    "a1,z2,a2,z3,h=forward_propagate(X,theta1,theta2)\n",
    "a1.shape,z2.shape,a2.shape,z3.shape,h.shape"
   ],
   "metadata": {
    "collapsed": false,
    "pycharm": {
     "name": "#%%\n"
    }
   }
  },
  {
   "cell_type": "code",
   "execution_count": 62,
   "outputs": [
    {
     "data": {
      "text/plain": "7.3504371751819"
     },
     "execution_count": 62,
     "metadata": {},
     "output_type": "execute_result"
    }
   ],
   "source": [
    "cost(params,input_size,hidden_size,num_labels,X,y_onehot,lam)"
   ],
   "metadata": {
    "collapsed": false,
    "pycharm": {
     "name": "#%%\n"
    }
   }
  },
  {
   "cell_type": "code",
   "execution_count": 64,
   "outputs": [],
   "source": [
    "def sigmoid_gradient(z):\n",
    "    return np.multiply(sigmoid(z),(1-sigmoid(z)))"
   ],
   "metadata": {
    "collapsed": false,
    "pycharm": {
     "name": "#%%\n"
    }
   }
  },
  {
   "cell_type": "code",
   "execution_count": 63,
   "outputs": [],
   "source": [
    "## 反向传播，梯度下降。\n",
    "def backprop(params,input_size,hidden_size,num_labels,X,y,lam):\n",
    "    # STEP1: 获取样本个数\n",
    "    m=X.shape[0]\n",
    "    # STEP2：将矩阵X,y转换为numpy矩阵\n",
    "    X=np.matrix(X)\n",
    "    y=np.matrix(y)\n",
    "    #STEP3：从params中获取神经网络参数，并安装输入层维度和隐藏层维度重新定义参数的维度\n",
    "    theta1=np.matrix(np.reshape(params[:hidden_size * (input_size+1)],(hidden_size,(input_size+1))))\n",
    "    theta2=np.matrix(np.reshape(params[hidden_size * (input_size+1):],(num_labels,(hidden_size+1))))\n",
    "    #STEP4：调用前面写好的前向传播函数\n",
    "    a1,z2,a2,z3,h=forward_propagate(X,theta1,theta2)\n",
    "    # STEP5：初始化\n",
    "    J=0\n",
    "    delta1=np.zeros(theta1.shape)   #（25，401）\n",
    "    delta2=np.zeros(theta2.shape)   #（10，26）\n",
    "    #STEP6：计算代价函数（调用函数）\n",
    "    for i in range(m):\n",
    "        first_term=np.multiply(-y[i,:],np.log(h[i,:]))\n",
    "        second_term=np.multiply((1-y[i,:]),np.log(1-h[i,:]))\n",
    "        J+=np.sum(first_term-second_term)\n",
    "\n",
    "    J=J/m\n",
    "    # STEP7：实现反向传播（这里用到的公式参考PDF5）\n",
    "    for t in range(m):# 遍历每一个样本\n",
    "        a1t=a1[t,:] #(1,401)\n",
    "        z2t=z2[t,:] #(1,25)\n",
    "        a2t=a2[t,:]# (1,26)\n",
    "        ht=h[t,:]  #(1,10)\n",
    "        yt=y[t,:] #(1,10)\n",
    "\n",
    "        d3t=ht-yt\n",
    "        z2t=np.insert(z2t,0,values=np.ones(1))# (1,26)\n",
    "        d2t=np.multiply((theta2.T*d3t.T).T,sigmoid_gradient(z2t)) #(1,26)\n",
    "\n",
    "        delta1=delta1+(d2t[:,1:]).T*a1t\n",
    "        delta2=delta2+d3t.T*a2t\n",
    "\n",
    "    # STEP8: 加入正则化\n",
    "    delta1[:,1:] = delta1[:,1:] + (theta1[:,1:]*lam)/m\n",
    "    delta2[:,1:] = delta2[:,1:] + (theta2[:,1:]*lam)/m\n",
    "\n",
    "    #STEP9： 将梯度矩阵转换为单个数组\n",
    "    grad=np.concatenate((np.ravel(delta1),np.ravel(delta2)))\n",
    "\n",
    "    return J,grad\n",
    "\n",
    "\n",
    "\n",
    "\n"
   ],
   "metadata": {
    "collapsed": false,
    "pycharm": {
     "name": "#%%\n"
    }
   }
  },
  {
   "cell_type": "code",
   "execution_count": 65,
   "outputs": [
    {
     "data": {
      "text/plain": "(7.3452124962973055, (10285,))"
     },
     "execution_count": 65,
     "metadata": {},
     "output_type": "execute_result"
    }
   ],
   "source": [
    "J,grad=backprop(params,input_size,hidden_size,num_labels,X,y_onehot,lam)\n",
    "J,grad.shape"
   ],
   "metadata": {
    "collapsed": false,
    "pycharm": {
     "name": "#%%\n"
    }
   }
  },
  {
   "cell_type": "code",
   "execution_count": 66,
   "outputs": [
    {
     "name": "stderr",
     "output_type": "stream",
     "text": [
      "<ipython-input-63-9eb0c6f0e582>:20: RuntimeWarning: divide by zero encountered in log\n",
      "  second_term=np.multiply((1-y[i,:]),np.log(1-h[i,:]))\n",
      "<ipython-input-63-9eb0c6f0e582>:20: RuntimeWarning: invalid value encountered in multiply\n",
      "  second_term=np.multiply((1-y[i,:]),np.log(1-h[i,:]))\n"
     ]
    },
    {
     "data": {
      "text/plain": "     fun: 0.45855550950730184\n     jac: array([-2.67642045e+00,  2.23673858e-05, -8.36106091e-06, ...,\n       -2.10800625e+00,  3.05783477e+00, -5.93183399e+00])\n message: 'Linear search failed'\n    nfev: 207\n     nit: 12\n  status: 4\n success: False\n       x: array([ 0.49212547,  0.11183693, -0.0418053 , ..., -1.75697926,\n       -1.05319587,  1.72112263])"
     },
     "execution_count": 66,
     "metadata": {},
     "output_type": "execute_result"
    }
   ],
   "source": [
    "from scipy.optimize import minimize\n",
    "fmin=minimize(fun=backprop,x0=params,args=(input_size,hidden_size,num_labels,X,y_onehot,lam),\n",
    "              method='TNC',jac=True,options={'maxiter':250})\n",
    "fmin"
   ],
   "metadata": {
    "collapsed": false,
    "pycharm": {
     "name": "#%%\n"
    }
   }
  },
  {
   "cell_type": "code",
   "execution_count": 68,
   "outputs": [
    {
     "data": {
      "text/plain": "array([[10],\n       [10],\n       [10],\n       ...,\n       [ 9],\n       [ 9],\n       [ 7]], dtype=int64)"
     },
     "execution_count": 68,
     "metadata": {},
     "output_type": "execute_result"
    }
   ],
   "source": [
    "#预测\n",
    "X=np.matrix(X)\n",
    "theta1=np.matrix(np.reshape(fmin.x[:hidden_size * (input_size+1)],(hidden_size,(input_size+1))))\n",
    "theta2=np.matrix(np.reshape(fmin.x[hidden_size * (input_size+1):],(num_labels,(hidden_size+1))))\n",
    "\n",
    "a1,z2,a2,z3,h=forward_propagate(X,theta1,theta2)\n",
    "y_pred=np.array(np.argmax(h,axis=1)+1)\n",
    "y_pred"
   ],
   "metadata": {
    "collapsed": false,
    "pycharm": {
     "name": "#%%\n"
    }
   }
  },
  {
   "cell_type": "code",
   "execution_count": 69,
   "outputs": [
    {
     "name": "stdout",
     "output_type": "stream",
     "text": [
      "accuracy = 94.1%\n"
     ]
    }
   ],
   "source": [
    "#计算精确度\n",
    "correct = [1 if a==b else 0 for (a,b) in zip(y_pred,y)]\n",
    "accuracy=(sum(map(int,correct))/float(len(correct)))\n",
    "print('accuracy = {0}%'.format(accuracy*100))"
   ],
   "metadata": {
    "collapsed": false,
    "pycharm": {
     "name": "#%%\n"
    }
   }
  }
 ],
 "metadata": {
  "kernelspec": {
   "name": "pt38",
   "language": "python",
   "display_name": "pt38"
  },
  "language_info": {
   "codemirror_mode": {
    "name": "ipython",
    "version": 2
   },
   "file_extension": ".py",
   "mimetype": "text/x-python",
   "name": "python",
   "nbconvert_exporter": "python",
   "pygments_lexer": "ipython2",
   "version": "2.7.6"
  }
 },
 "nbformat": 4,
 "nbformat_minor": 0
}