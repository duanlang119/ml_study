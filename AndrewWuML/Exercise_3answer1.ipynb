{
 "cells": [
  {
   "cell_type": "code",
   "execution_count": 1,
   "metadata": {
    "collapsed": true
   },
   "outputs": [],
   "source": [
    "import numpy as np\n",
    "import pandas as pd\n",
    "import matplotlib.pyplot as plt\n",
    "import matplotlib\n",
    "from scipy.io import loadmat\n",
    "from sklearn.metrics import classification_report#这个包是评价报告"
   ]
  },
  {
   "cell_type": "code",
   "execution_count": 2,
   "outputs": [
    {
     "data": {
      "text/plain": "{'__header__': b'MATLAB 5.0 MAT-file, Platform: GLNXA64, Created on: Sun Oct 16 13:09:09 2011',\n '__version__': '1.0',\n '__globals__': [],\n 'X': array([[0., 0., 0., ..., 0., 0., 0.],\n        [0., 0., 0., ..., 0., 0., 0.],\n        [0., 0., 0., ..., 0., 0., 0.],\n        ...,\n        [0., 0., 0., ..., 0., 0., 0.],\n        [0., 0., 0., ..., 0., 0., 0.],\n        [0., 0., 0., ..., 0., 0., 0.]]),\n 'y': array([[10],\n        [10],\n        [10],\n        ...,\n        [ 9],\n        [ 9],\n        [ 9]], dtype=uint8)}"
     },
     "execution_count": 2,
     "metadata": {},
     "output_type": "execute_result"
    }
   ],
   "source": [
    "data=loadmat('ex3data1.mat') #加载数据\n",
    "data\n"
   ],
   "metadata": {
    "collapsed": false,
    "pycharm": {
     "name": "#%%\n"
    }
   }
  },
  {
   "cell_type": "code",
   "execution_count": 3,
   "outputs": [
    {
     "data": {
      "text/plain": "((5000, 400), (5000, 1))"
     },
     "execution_count": 3,
     "metadata": {},
     "output_type": "execute_result"
    }
   ],
   "source": [
    "data['X'].shape,data['y'].shape"
   ],
   "metadata": {
    "collapsed": false,
    "pycharm": {
     "name": "#%%\n"
    }
   }
  },
  {
   "cell_type": "code",
   "execution_count": 4,
   "outputs": [],
   "source": [
    "# sigmoid函数\n",
    "def sigmoid(z):\n",
    "    return 1/(1+np.exp(-z))"
   ],
   "metadata": {
    "collapsed": false,
    "pycharm": {
     "name": "#%%\n"
    }
   }
  },
  {
   "cell_type": "code",
   "execution_count": 5,
   "outputs": [],
   "source": [
    "# 代价函数\n",
    "def cost(theta,X,y,learningRate):\n",
    "    theta=np.matrix(theta)\n",
    "    X=np.matrix(X)\n",
    "    y=np.matrix(y)\n",
    "\n",
    "    cross_cost=np.multiply(-y,np.log(sigmoid(X*theta.T)))-np.multiply((1-y),np.log(1-sigmoid(X*theta.T)))\n",
    "\n",
    "    reg=(learningRate/(2*len(X)))*np.sum(np.power(theta[1:],2))\n",
    "\n",
    "    whole_cost=np.sum(cross_cost)/len(X)+reg\n",
    "    return whole_cost"
   ],
   "metadata": {
    "collapsed": false,
    "pycharm": {
     "name": "#%%\n"
    }
   }
  },
  {
   "cell_type": "code",
   "execution_count": 6,
   "outputs": [],
   "source": [
    "def gradient(theta,X,y,learningRate):\n",
    "    theta=np.matrix(theta)\n",
    "    X=np.matrix(X)\n",
    "    y=np.matrix(y)\n",
    "\n",
    "    parameters=int(theta.ravel().shape[1])\n",
    "\n",
    "    error=sigmoid(X*theta.T)-y\n",
    "\n",
    "    grad=((X.T * error) / len(X)).T + ((learningRate / len(X)) * theta)\n",
    "\n",
    "    grad[0,0]=np.sum(np.multiply(error,X[:,0]))/len(X)\n",
    "\n",
    "    return np.array(grad).ravel()"
   ],
   "metadata": {
    "collapsed": false,
    "pycharm": {
     "name": "#%%\n"
    }
   }
  },
  {
   "cell_type": "code",
   "execution_count": 7,
   "outputs": [],
   "source": [
    "from scipy.optimize import minimize\n",
    "\n",
    "def one_vs_all(X,y,num_labels,learning_rate):\n",
    "    rows=X.shape[0]\n",
    "    params=X.shape[1]\n",
    "\n",
    "    all_theta=np.zeros((num_labels,params + 1))\n",
    "\n",
    "    X = np.insert(X,0,values=np.ones(rows),axis=1)\n",
    "\n",
    "    for i in range(1,num_labels+1):\n",
    "        theta=np.zeros(params+1)\n",
    "        y_i=np.array([1 if label==i else 0 for label in y])\n",
    "        y_i=np.reshape(y_i,(rows,1))\n",
    "\n",
    "        fmin=minimize(fun=cost,x0=theta,args=(X,y_i,learning_rate),method='TNC',jac=gradient)\n",
    "        all_theta[i-1,:]=fmin.x\n",
    "\n",
    "    return all_theta"
   ],
   "metadata": {
    "collapsed": false,
    "pycharm": {
     "name": "#%%\n"
    }
   }
  },
  {
   "cell_type": "code",
   "execution_count": 8,
   "outputs": [
    {
     "data": {
      "text/plain": "((5000, 401), (5000, 1), (401,), (10, 401))"
     },
     "execution_count": 8,
     "metadata": {},
     "output_type": "execute_result"
    }
   ],
   "source": [
    "rows=data['X'].shape[0]\n",
    "params=data['X'].shape[1]\n",
    "\n",
    "all_theta=np.zeros((10,params+1))\n",
    "X=np.insert(data['X'],0,values=np.ones(rows),axis=1)\n",
    "\n",
    "theta=np.zeros(params+1)\n",
    "y_0=np.array([1 if label==0 else 0 for label in data['y']])\n",
    "y_0=np.reshape(y_0,(rows,1))\n",
    "\n",
    "X.shape,y_0.shape,theta.shape,all_theta.shape"
   ],
   "metadata": {
    "collapsed": false,
    "pycharm": {
     "name": "#%%\n"
    }
   }
  },
  {
   "cell_type": "code",
   "execution_count": 9,
   "outputs": [
    {
     "data": {
      "text/plain": "array([ 1,  2,  3,  4,  5,  6,  7,  8,  9, 10], dtype=uint8)"
     },
     "execution_count": 9,
     "metadata": {},
     "output_type": "execute_result"
    }
   ],
   "source": [
    "np.unique(data['y'])"
   ],
   "metadata": {
    "collapsed": false,
    "pycharm": {
     "name": "#%%\n"
    }
   }
  },
  {
   "cell_type": "code",
   "execution_count": 10,
   "outputs": [
    {
     "data": {
      "text/plain": "array([[-2.36695980e+00,  0.00000000e+00,  0.00000000e+00, ...,\n         1.30581285e-03, -1.09792571e-09,  0.00000000e+00],\n       [-3.17878643e+00,  0.00000000e+00,  0.00000000e+00, ...,\n         4.45176571e-03, -5.07488590e-04,  0.00000000e+00],\n       [-4.78750938e+00,  0.00000000e+00,  0.00000000e+00, ...,\n        -2.85341155e-05, -2.48507893e-07,  0.00000000e+00],\n       ...,\n       [-7.97033240e+00,  0.00000000e+00,  0.00000000e+00, ...,\n        -1.00142591e-04,  7.82795440e-06,  0.00000000e+00],\n       [-4.55826209e+00,  0.00000000e+00,  0.00000000e+00, ...,\n        -1.11572640e-03,  8.19315457e-05,  0.00000000e+00],\n       [-5.30389282e+00,  0.00000000e+00,  0.00000000e+00, ...,\n        -1.13078635e-04,  9.26790970e-06,  0.00000000e+00]])"
     },
     "execution_count": 10,
     "metadata": {},
     "output_type": "execute_result"
    }
   ],
   "source": [
    "all_theta = one_vs_all(data['X'],data['y'],10,1)\n",
    "all_theta\n"
   ],
   "metadata": {
    "collapsed": false,
    "pycharm": {
     "name": "#%%\n"
    }
   }
  },
  {
   "cell_type": "code",
   "execution_count": 11,
   "outputs": [],
   "source": [
    "def predict_all(X,all_theta):\n",
    "    rows=X.shape[0]\n",
    "    params=X.shape[1]\n",
    "    num_labels=all_theta.shape[0]\n",
    "\n",
    "    X=np.insert(X,0,values=np.ones(rows),axis=1)\n",
    "    X=np.matrix(X)\n",
    "    all_theta=np.matrix(all_theta)\n",
    "\n",
    "    h=sigmoid(X*all_theta.T)\n",
    "    h_argmax=np.argmax(h,axis=1)\n",
    "    h_argmax=h_argmax+1\n",
    "    return h_argmax"
   ],
   "metadata": {
    "collapsed": false,
    "pycharm": {
     "name": "#%%\n"
    }
   }
  },
  {
   "cell_type": "code",
   "execution_count": 12,
   "outputs": [
    {
     "name": "stdout",
     "output_type": "stream",
     "text": [
      "accuracy = 94.48%\n"
     ]
    }
   ],
   "source": [
    "y_pred=predict_all(data['X'],all_theta)\n",
    "correct=[1 if a==b else 0 for (a,b) in zip(y_pred,data['y'])]\n",
    "accuracy=(sum(map(int,correct))/float(len(correct)))\n",
    "print('accuracy = {0}%'.format(accuracy*100))\n"
   ],
   "metadata": {
    "collapsed": false,
    "pycharm": {
     "name": "#%%\n"
    }
   }
  }
 ],
 "metadata": {
  "kernelspec": {
   "name": "pt38",
   "language": "python",
   "display_name": "pt38"
  },
  "language_info": {
   "codemirror_mode": {
    "name": "ipython",
    "version": 2
   },
   "file_extension": ".py",
   "mimetype": "text/x-python",
   "name": "python",
   "nbconvert_exporter": "python",
   "pygments_lexer": "ipython2",
   "version": "2.7.6"
  }
 },
 "nbformat": 4,
 "nbformat_minor": 0
}