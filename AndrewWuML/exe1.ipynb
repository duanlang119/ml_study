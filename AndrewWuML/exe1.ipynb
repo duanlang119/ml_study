{
 "cells": [
  {
   "cell_type": "code",
   "execution_count": 122,
   "metadata": {
    "collapsed": true
   },
   "outputs": [],
   "source": [
    "import numpy as np\n",
    "import pandas as pd\n",
    "import matplotlib.pyplot as plt"
   ]
  },
  {
   "cell_type": "code",
   "execution_count": 123,
   "outputs": [
    {
     "data": {
      "text/plain": "array([[1., 0., 0., 0., 0.],\n       [0., 1., 0., 0., 0.],\n       [0., 0., 1., 0., 0.],\n       [0., 0., 0., 1., 0.],\n       [0., 0., 0., 0., 1.]])"
     },
     "execution_count": 123,
     "metadata": {},
     "output_type": "execute_result"
    }
   ],
   "source": [
    "A = np.eye(5)\n",
    "A"
   ],
   "metadata": {
    "collapsed": false,
    "pycharm": {
     "name": "#%%\n"
    }
   }
  },
  {
   "cell_type": "code",
   "execution_count": 124,
   "outputs": [
    {
     "data": {
      "text/plain": "array([[0., 0., 1.],\n       [0., 0., 0.],\n       [0., 0., 0.]])"
     },
     "execution_count": 124,
     "metadata": {},
     "output_type": "execute_result"
    }
   ],
   "source": [
    "np.eye(3, k=2)\n"
   ],
   "metadata": {
    "collapsed": false,
    "pycharm": {
     "name": "#%%\n"
    }
   }
  },
  {
   "cell_type": "code",
   "execution_count": 125,
   "outputs": [
    {
     "data": {
      "text/plain": "array([[1., 0., 0.],\n       [0., 1., 0.],\n       [0., 0., 1.]])"
     },
     "execution_count": 125,
     "metadata": {},
     "output_type": "execute_result"
    }
   ],
   "source": [
    "np.identity(3)"
   ],
   "metadata": {
    "collapsed": false,
    "pycharm": {
     "name": "#%%\n"
    }
   }
  },
  {
   "cell_type": "markdown",
   "source": [
    "1 简单练习\n",
    "输出一个5*5的单位矩阵\n",
    "\n",
    "2 单变量的线性回归\n",
    "整个2的部分需要根据城市人口数量，预测开小吃店的利润\n",
    "数据在ex1data1.txt里，第一列是城市人口数量，第二列是该城市小吃店利润。\n",
    "2.1 Plotting the Data\n",
    "读入数据，然后展示数据"
   ],
   "metadata": {
    "collapsed": false
   }
  },
  {
   "cell_type": "code",
   "execution_count": 142,
   "outputs": [
    {
     "data": {
      "text/plain": "   Population   Profit\n0      6.1101  17.5920\n1      5.5277   9.1302\n2      8.5186  13.6620\n3      7.0032  11.8540\n4      5.8598   6.8233",
      "text/html": "<div>\n<style scoped>\n    .dataframe tbody tr th:only-of-type {\n        vertical-align: middle;\n    }\n\n    .dataframe tbody tr th {\n        vertical-align: top;\n    }\n\n    .dataframe thead th {\n        text-align: right;\n    }\n</style>\n<table border=\"1\" class=\"dataframe\">\n  <thead>\n    <tr style=\"text-align: right;\">\n      <th></th>\n      <th>Population</th>\n      <th>Profit</th>\n    </tr>\n  </thead>\n  <tbody>\n    <tr>\n      <th>0</th>\n      <td>6.1101</td>\n      <td>17.5920</td>\n    </tr>\n    <tr>\n      <th>1</th>\n      <td>5.5277</td>\n      <td>9.1302</td>\n    </tr>\n    <tr>\n      <th>2</th>\n      <td>8.5186</td>\n      <td>13.6620</td>\n    </tr>\n    <tr>\n      <th>3</th>\n      <td>7.0032</td>\n      <td>11.8540</td>\n    </tr>\n    <tr>\n      <th>4</th>\n      <td>5.8598</td>\n      <td>6.8233</td>\n    </tr>\n  </tbody>\n</table>\n</div>"
     },
     "execution_count": 142,
     "metadata": {},
     "output_type": "execute_result"
    }
   ],
   "source": [
    "path =  'ex1data1.txt'\n",
    "data = pd.read_csv(path, header=None, names=['Population', 'Profit'])\n",
    "data.head()\n"
   ],
   "metadata": {
    "collapsed": false,
    "pycharm": {
     "name": "#%%\n"
    }
   }
  },
  {
   "cell_type": "code",
   "execution_count": 127,
   "outputs": [
    {
     "data": {
      "text/plain": "<Figure size 864x576 with 1 Axes>",
      "image/png": "[encoded data removed]"
     },
     "metadata": {
      "needs_background": "light"
     },
     "output_type": "display_data"
    }
   ],
   "source": [
    "data.plot(kind='scatter', x='Population', y='Profit', figsize=(12,8))\n",
    "plt.show()"
   ],
   "metadata": {
    "collapsed": false,
    "pycharm": {
     "name": "#%%\n"
    }
   }
  },
  {
   "cell_type": "code",
   "execution_count": 128,
   "outputs": [
    {
     "data": {
      "text/plain": "       Population     Profit\ncount   97.000000  97.000000\nmean     8.159800   5.839135\nstd      3.869884   5.510262\nmin      5.026900  -2.680700\n25%      5.707700   1.986900\n50%      6.589400   4.562300\n75%      8.578100   7.046700\nmax     22.203000  24.147000",
      "text/html": "<div>\n<style scoped>\n    .dataframe tbody tr th:only-of-type {\n        vertical-align: middle;\n    }\n\n    .dataframe tbody tr th {\n        vertical-align: top;\n    }\n\n    .dataframe thead th {\n        text-align: right;\n    }\n</style>\n<table border=\"1\" class=\"dataframe\">\n  <thead>\n    <tr style=\"text-align: right;\">\n      <th></th>\n      <th>Population</th>\n      <th>Profit</th>\n    </tr>\n  </thead>\n  <tbody>\n    <tr>\n      <th>count</th>\n      <td>97.000000</td>\n      <td>97.000000</td>\n    </tr>\n    <tr>\n      <th>mean</th>\n      <td>8.159800</td>\n      <td>5.839135</td>\n    </tr>\n    <tr>\n      <th>std</th>\n      <td>3.869884</td>\n      <td>5.510262</td>\n    </tr>\n    <tr>\n      <th>min</th>\n      <td>5.026900</td>\n      <td>-2.680700</td>\n    </tr>\n    <tr>\n      <th>25%</th>\n      <td>5.707700</td>\n      <td>1.986900</td>\n    </tr>\n    <tr>\n      <th>50%</th>\n      <td>6.589400</td>\n      <td>4.562300</td>\n    </tr>\n    <tr>\n      <th>75%</th>\n      <td>8.578100</td>\n      <td>7.046700</td>\n    </tr>\n    <tr>\n      <th>max</th>\n      <td>22.203000</td>\n      <td>24.147000</td>\n    </tr>\n  </tbody>\n</table>\n</div>"
     },
     "execution_count": 128,
     "metadata": {},
     "output_type": "execute_result"
    }
   ],
   "source": [
    "data.describe()"
   ],
   "metadata": {
    "collapsed": false,
    "pycharm": {
     "name": "#%%\n"
    }
   }
  },
  {
   "cell_type": "code",
   "source": [
    "def computeCost(X, y, theta):\n",
    "    inner = np.power(((X * theta.T) - y), 2)\n",
    "\n",
    "    return np.sum(inner) / (2 * len(X))\n",
    "    # return np.sum(np.dot(diff.transpose(),diff)) / (2 * len(X))"
   ],
   "metadata": {
    "collapsed": false,
    "pycharm": {
     "name": "#%%\n"
    }
   },
   "execution_count": 154,
   "outputs": []
  },
  {
   "cell_type": "code",
   "execution_count": 144,
   "outputs": [
    {
     "data": {
      "text/plain": "   ones  Population   Profit\n0     1      6.1101  17.5920\n1     1      5.5277   9.1302\n2     1      8.5186  13.6620\n3     1      7.0032  11.8540\n4     1      5.8598   6.8233",
      "text/html": "<div>\n<style scoped>\n    .dataframe tbody tr th:only-of-type {\n        vertical-align: middle;\n    }\n\n    .dataframe tbody tr th {\n        vertical-align: top;\n    }\n\n    .dataframe thead th {\n        text-align: right;\n    }\n</style>\n<table border=\"1\" class=\"dataframe\">\n  <thead>\n    <tr style=\"text-align: right;\">\n      <th></th>\n      <th>ones</th>\n      <th>Population</th>\n      <th>Profit</th>\n    </tr>\n  </thead>\n  <tbody>\n    <tr>\n      <th>0</th>\n      <td>1</td>\n      <td>6.1101</td>\n      <td>17.5920</td>\n    </tr>\n    <tr>\n      <th>1</th>\n      <td>1</td>\n      <td>5.5277</td>\n      <td>9.1302</td>\n    </tr>\n    <tr>\n      <th>2</th>\n      <td>1</td>\n      <td>8.5186</td>\n      <td>13.6620</td>\n    </tr>\n    <tr>\n      <th>3</th>\n      <td>1</td>\n      <td>7.0032</td>\n      <td>11.8540</td>\n    </tr>\n    <tr>\n      <th>4</th>\n      <td>1</td>\n      <td>5.8598</td>\n      <td>6.8233</td>\n    </tr>\n  </tbody>\n</table>\n</div>"
     },
     "execution_count": 144,
     "metadata": {},
     "output_type": "execute_result"
    }
   ],
   "source": [
    "data.insert(0,'ones',1)\n",
    "data.head()"
   ],
   "metadata": {
    "collapsed": false,
    "pycharm": {
     "name": "#%%\n"
    }
   }
  },
  {
   "cell_type": "code",
   "execution_count": 145,
   "outputs": [
    {
     "data": {
      "text/plain": "   ones  Population\n0     1      6.1101\n1     1      5.5277\n2     1      8.5186\n3     1      7.0032\n4     1      5.8598",
      "text/html": "<div>\n<style scoped>\n    .dataframe tbody tr th:only-of-type {\n        vertical-align: middle;\n    }\n\n    .dataframe tbody tr th {\n        vertical-align: top;\n    }\n\n    .dataframe thead th {\n        text-align: right;\n    }\n</style>\n<table border=\"1\" class=\"dataframe\">\n  <thead>\n    <tr style=\"text-align: right;\">\n      <th></th>\n      <th>ones</th>\n      <th>Population</th>\n    </tr>\n  </thead>\n  <tbody>\n    <tr>\n      <th>0</th>\n      <td>1</td>\n      <td>6.1101</td>\n    </tr>\n    <tr>\n      <th>1</th>\n      <td>1</td>\n      <td>5.5277</td>\n    </tr>\n    <tr>\n      <th>2</th>\n      <td>1</td>\n      <td>8.5186</td>\n    </tr>\n    <tr>\n      <th>3</th>\n      <td>1</td>\n      <td>7.0032</td>\n    </tr>\n    <tr>\n      <th>4</th>\n      <td>1</td>\n      <td>5.8598</td>\n    </tr>\n  </tbody>\n</table>\n</div>"
     },
     "execution_count": 145,
     "metadata": {},
     "output_type": "execute_result"
    }
   ],
   "source": [
    "cols = data.shape[1]\n",
    "X = data.iloc[:,:-1]#X是data里的除最后列\n",
    "y = data.iloc[:,cols-1:cols]#y是data最后一列\n",
    "X.head()"
   ],
   "metadata": {
    "collapsed": false,
    "pycharm": {
     "name": "#%%\n"
    }
   }
  },
  {
   "cell_type": "code",
   "execution_count": 132,
   "outputs": [
    {
     "data": {
      "text/plain": "    Profit\n0  17.5920\n1   9.1302\n2  13.6620\n3  11.8540\n4   6.8233",
      "text/html": "<div>\n<style scoped>\n    .dataframe tbody tr th:only-of-type {\n        vertical-align: middle;\n    }\n\n    .dataframe tbody tr th {\n        vertical-align: top;\n    }\n\n    .dataframe thead th {\n        text-align: right;\n    }\n</style>\n<table border=\"1\" class=\"dataframe\">\n  <thead>\n    <tr style=\"text-align: right;\">\n      <th></th>\n      <th>Profit</th>\n    </tr>\n  </thead>\n  <tbody>\n    <tr>\n      <th>0</th>\n      <td>17.5920</td>\n    </tr>\n    <tr>\n      <th>1</th>\n      <td>9.1302</td>\n    </tr>\n    <tr>\n      <th>2</th>\n      <td>13.6620</td>\n    </tr>\n    <tr>\n      <th>3</th>\n      <td>11.8540</td>\n    </tr>\n    <tr>\n      <th>4</th>\n      <td>6.8233</td>\n    </tr>\n  </tbody>\n</table>\n</div>"
     },
     "execution_count": 132,
     "metadata": {},
     "output_type": "execute_result"
    }
   ],
   "source": [
    "y.head()"
   ],
   "metadata": {
    "collapsed": false,
    "pycharm": {
     "name": "#%%\n"
    }
   }
  },
  {
   "cell_type": "code",
   "execution_count": 133,
   "outputs": [
    {
     "data": {
      "text/plain": "pandas.core.frame.DataFrame"
     },
     "execution_count": 133,
     "metadata": {},
     "output_type": "execute_result"
    }
   ],
   "source": [
    "type(X)"
   ],
   "metadata": {
    "collapsed": false,
    "pycharm": {
     "name": "#%%\n"
    }
   }
  },
  {
   "cell_type": "code",
   "execution_count": 146,
   "outputs": [],
   "source": [
    "# matrix out of time ,all using ndarry\n",
    "X = X.values\n",
    "y = y.values\n",
    "theta = np.matrix(np.array([0,0]))\n",
    "# theta=np.zeros((2, 1))"
   ],
   "metadata": {
    "collapsed": false,
    "pycharm": {
     "name": "#%%\n"
    }
   }
  },
  {
   "cell_type": "code",
   "execution_count": 153,
   "outputs": [
    {
     "data": {
      "text/plain": "((97, 2), (97, 1), (1, 2))"
     },
     "execution_count": 153,
     "metadata": {},
     "output_type": "execute_result"
    }
   ],
   "source": [
    "X.shape,y.shape,theta.shape"
   ],
   "metadata": {
    "collapsed": false,
    "pycharm": {
     "name": "#%%\n"
    }
   }
  },
  {
   "cell_type": "code",
   "execution_count": 155,
   "outputs": [
    {
     "data": {
      "text/plain": "32.072733877455676"
     },
     "execution_count": 155,
     "metadata": {},
     "output_type": "execute_result"
    }
   ],
   "source": [
    "computeCost(X, y, theta)"
   ],
   "metadata": {
    "collapsed": false,
    "pycharm": {
     "name": "#%%\n"
    }
   }
  },
  {
   "cell_type": "code",
   "execution_count": 156,
   "outputs": [],
   "source": [
    "def gradientDescent(X, y, theta, alpha, iters):\n",
    "    temp = np.matrix(np.zeros(theta.shape))\n",
    "    parameters = int(theta.ravel().shape[1])\n",
    "    cost = np.zeros(iters)\n",
    "\n",
    "    for i in range(iters):\n",
    "        error = (X * theta.T) - y\n",
    "\n",
    "        for j in range(parameters):\n",
    "            term = np.multiply(error, X[:,j])\n",
    "            temp[0,j] = theta[0,j] - ((alpha / len(X)) * np.sum(term))\n",
    "\n",
    "        theta = temp\n",
    "        cost[i] = computeCost(X, y, theta)\n",
    "\n",
    "    return theta, cost\n",
    "\n"
   ],
   "metadata": {
    "collapsed": false,
    "pycharm": {
     "name": "#%%\n"
    }
   }
  },
  {
   "cell_type": "code",
   "execution_count": 159,
   "outputs": [
    {
     "data": {
      "text/plain": "(array([[ 1.    ,  6.1101],\n        [ 1.    ,  5.5277],\n        [ 1.    ,  8.5186],\n        [ 1.    ,  7.0032],\n        [ 1.    ,  5.8598],\n        [ 1.    ,  8.3829],\n        [ 1.    ,  7.4764],\n        [ 1.    ,  8.5781],\n        [ 1.    ,  6.4862],\n        [ 1.    ,  5.0546],\n        [ 1.    ,  5.7107],\n        [ 1.    , 14.164 ],\n        [ 1.    ,  5.734 ],\n        [ 1.    ,  8.4084],\n        [ 1.    ,  5.6407],\n        [ 1.    ,  5.3794],\n        [ 1.    ,  6.3654],\n        [ 1.    ,  5.1301],\n        [ 1.    ,  6.4296],\n        [ 1.    ,  7.0708],\n        [ 1.    ,  6.1891],\n        [ 1.    , 20.27  ],\n        [ 1.    ,  5.4901],\n        [ 1.    ,  6.3261],\n        [ 1.    ,  5.5649],\n        [ 1.    , 18.945 ],\n        [ 1.    , 12.828 ],\n        [ 1.    , 10.957 ],\n        [ 1.    , 13.176 ],\n        [ 1.    , 22.203 ],\n        [ 1.    ,  5.2524],\n        [ 1.    ,  6.5894],\n        [ 1.    ,  9.2482],\n        [ 1.    ,  5.8918],\n        [ 1.    ,  8.2111],\n        [ 1.    ,  7.9334],\n        [ 1.    ,  8.0959],\n        [ 1.    ,  5.6063],\n        [ 1.    , 12.836 ],\n        [ 1.    ,  6.3534],\n        [ 1.    ,  5.4069],\n        [ 1.    ,  6.8825],\n        [ 1.    , 11.708 ],\n        [ 1.    ,  5.7737],\n        [ 1.    ,  7.8247],\n        [ 1.    ,  7.0931],\n        [ 1.    ,  5.0702],\n        [ 1.    ,  5.8014],\n        [ 1.    , 11.7   ],\n        [ 1.    ,  5.5416],\n        [ 1.    ,  7.5402],\n        [ 1.    ,  5.3077],\n        [ 1.    ,  7.4239],\n        [ 1.    ,  7.6031],\n        [ 1.    ,  6.3328],\n        [ 1.    ,  6.3589],\n        [ 1.    ,  6.2742],\n        [ 1.    ,  5.6397],\n        [ 1.    ,  9.3102],\n        [ 1.    ,  9.4536],\n        [ 1.    ,  8.8254],\n        [ 1.    ,  5.1793],\n        [ 1.    , 21.279 ],\n        [ 1.    , 14.908 ],\n        [ 1.    , 18.959 ],\n        [ 1.    ,  7.2182],\n        [ 1.    ,  8.2951],\n        [ 1.    , 10.236 ],\n        [ 1.    ,  5.4994],\n        [ 1.    , 20.341 ],\n        [ 1.    , 10.136 ],\n        [ 1.    ,  7.3345],\n        [ 1.    ,  6.0062],\n        [ 1.    ,  7.2259],\n        [ 1.    ,  5.0269],\n        [ 1.    ,  6.5479],\n        [ 1.    ,  7.5386],\n        [ 1.    ,  5.0365],\n        [ 1.    , 10.274 ],\n        [ 1.    ,  5.1077],\n        [ 1.    ,  5.7292],\n        [ 1.    ,  5.1884],\n        [ 1.    ,  6.3557],\n        [ 1.    ,  9.7687],\n        [ 1.    ,  6.5159],\n        [ 1.    ,  8.5172],\n        [ 1.    ,  9.1802],\n        [ 1.    ,  6.002 ],\n        [ 1.    ,  5.5204],\n        [ 1.    ,  5.0594],\n        [ 1.    ,  5.7077],\n        [ 1.    ,  7.6366],\n        [ 1.    ,  5.8707],\n        [ 1.    ,  5.3054],\n        [ 1.    ,  8.2934],\n        [ 1.    , 13.394 ],\n        [ 1.    ,  5.4369]]),\n array([[17.592  ],\n        [ 9.1302 ],\n        [13.662  ],\n        [11.854  ],\n        [ 6.8233 ],\n        [11.886  ],\n        [ 4.3483 ],\n        [12.     ],\n        [ 6.5987 ],\n        [ 3.8166 ],\n        [ 3.2522 ],\n        [15.505  ],\n        [ 3.1551 ],\n        [ 7.2258 ],\n        [ 0.71618],\n        [ 3.5129 ],\n        [ 5.3048 ],\n        [ 0.56077],\n        [ 3.6518 ],\n        [ 5.3893 ],\n        [ 3.1386 ],\n        [21.767  ],\n        [ 4.263  ],\n        [ 5.1875 ],\n        [ 3.0825 ],\n        [22.638  ],\n        [13.501  ],\n        [ 7.0467 ],\n        [14.692  ],\n        [24.147  ],\n        [-1.22   ],\n        [ 5.9966 ],\n        [12.134  ],\n        [ 1.8495 ],\n        [ 6.5426 ],\n        [ 4.5623 ],\n        [ 4.1164 ],\n        [ 3.3928 ],\n        [10.117  ],\n        [ 5.4974 ],\n        [ 0.55657],\n        [ 3.9115 ],\n        [ 5.3854 ],\n        [ 2.4406 ],\n        [ 6.7318 ],\n        [ 1.0463 ],\n        [ 5.1337 ],\n        [ 1.844  ],\n        [ 8.0043 ],\n        [ 1.0179 ],\n        [ 6.7504 ],\n        [ 1.8396 ],\n        [ 4.2885 ],\n        [ 4.9981 ],\n        [ 1.4233 ],\n        [-1.4211 ],\n        [ 2.4756 ],\n        [ 4.6042 ],\n        [ 3.9624 ],\n        [ 5.4141 ],\n        [ 5.1694 ],\n        [-0.74279],\n        [17.929  ],\n        [12.054  ],\n        [17.054  ],\n        [ 4.8852 ],\n        [ 5.7442 ],\n        [ 7.7754 ],\n        [ 1.0173 ],\n        [20.992  ],\n        [ 6.6799 ],\n        [ 4.0259 ],\n        [ 1.2784 ],\n        [ 3.3411 ],\n        [-2.6807 ],\n        [ 0.29678],\n        [ 3.8845 ],\n        [ 5.7014 ],\n        [ 6.7526 ],\n        [ 2.0576 ],\n        [ 0.47953],\n        [ 0.20421],\n        [ 0.67861],\n        [ 7.5435 ],\n        [ 5.3436 ],\n        [ 4.2415 ],\n        [ 6.7981 ],\n        [ 0.92695],\n        [ 0.152  ],\n        [ 2.8214 ],\n        [ 1.8451 ],\n        [ 4.2959 ],\n        [ 7.2029 ],\n        [ 1.9869 ],\n        [ 0.14454],\n        [ 9.0551 ],\n        [ 0.61705]]),\n matrix([[0, 0]]),\n 0.01,\n 1500,\n matrix([[0., 0.]]),\n 2)"
     },
     "execution_count": 159,
     "metadata": {},
     "output_type": "execute_result"
    }
   ],
   "source": [
    "alpha = 0.01\n",
    "iters = 1500\n",
    "X, y, theta, alpha, iters,np.matrix(np.zeros(theta.shape)),int(theta.ravel().shape[1])"
   ],
   "metadata": {
    "collapsed": false,
    "pycharm": {
     "name": "#%%\n"
    }
   }
  },
  {
   "cell_type": "code",
   "execution_count": 161,
   "outputs": [
    {
     "data": {
      "text/plain": "matrix([[-17.592  ],\n        [ -9.1302 ],\n        [-13.662  ],\n        [-11.854  ],\n        [ -6.8233 ],\n        [-11.886  ],\n        [ -4.3483 ],\n        [-12.     ],\n        [ -6.5987 ],\n        [ -3.8166 ],\n        [ -3.2522 ],\n        [-15.505  ],\n        [ -3.1551 ],\n        [ -7.2258 ],\n        [ -0.71618],\n        [ -3.5129 ],\n        [ -5.3048 ],\n        [ -0.56077],\n        [ -3.6518 ],\n        [ -5.3893 ],\n        [ -3.1386 ],\n        [-21.767  ],\n        [ -4.263  ],\n        [ -5.1875 ],\n        [ -3.0825 ],\n        [-22.638  ],\n        [-13.501  ],\n        [ -7.0467 ],\n        [-14.692  ],\n        [-24.147  ],\n        [  1.22   ],\n        [ -5.9966 ],\n        [-12.134  ],\n        [ -1.8495 ],\n        [ -6.5426 ],\n        [ -4.5623 ],\n        [ -4.1164 ],\n        [ -3.3928 ],\n        [-10.117  ],\n        [ -5.4974 ],\n        [ -0.55657],\n        [ -3.9115 ],\n        [ -5.3854 ],\n        [ -2.4406 ],\n        [ -6.7318 ],\n        [ -1.0463 ],\n        [ -5.1337 ],\n        [ -1.844  ],\n        [ -8.0043 ],\n        [ -1.0179 ],\n        [ -6.7504 ],\n        [ -1.8396 ],\n        [ -4.2885 ],\n        [ -4.9981 ],\n        [ -1.4233 ],\n        [  1.4211 ],\n        [ -2.4756 ],\n        [ -4.6042 ],\n        [ -3.9624 ],\n        [ -5.4141 ],\n        [ -5.1694 ],\n        [  0.74279],\n        [-17.929  ],\n        [-12.054  ],\n        [-17.054  ],\n        [ -4.8852 ],\n        [ -5.7442 ],\n        [ -7.7754 ],\n        [ -1.0173 ],\n        [-20.992  ],\n        [ -6.6799 ],\n        [ -4.0259 ],\n        [ -1.2784 ],\n        [ -3.3411 ],\n        [  2.6807 ],\n        [ -0.29678],\n        [ -3.8845 ],\n        [ -5.7014 ],\n        [ -6.7526 ],\n        [ -2.0576 ],\n        [ -0.47953],\n        [ -0.20421],\n        [ -0.67861],\n        [ -7.5435 ],\n        [ -5.3436 ],\n        [ -4.2415 ],\n        [ -6.7981 ],\n        [ -0.92695],\n        [ -0.152  ],\n        [ -2.8214 ],\n        [ -1.8451 ],\n        [ -4.2959 ],\n        [ -7.2029 ],\n        [ -1.9869 ],\n        [ -0.14454],\n        [ -9.0551 ],\n        [ -0.61705]])"
     },
     "execution_count": 161,
     "metadata": {},
     "output_type": "execute_result"
    }
   ],
   "source": [
    "(X * theta.T) - y\n",
    "# g, cost = gradientDescent(X, y, theta, alpha, iters)\n",
    "# g"
   ],
   "metadata": {
    "collapsed": false,
    "pycharm": {
     "name": "#%%\n"
    }
   }
  },
  {
   "cell_type": "code",
   "execution_count": 162,
   "outputs": [
    {
     "data": {
      "text/plain": "   Size  Bedrooms   Price\n0  2104         3  399900\n1  1600         3  329900\n2  2400         3  369000\n3  1416         2  232000\n4  3000         4  539900",
      "text/html": "<div>\n<style scoped>\n    .dataframe tbody tr th:only-of-type {\n        vertical-align: middle;\n    }\n\n    .dataframe tbody tr th {\n        vertical-align: top;\n    }\n\n    .dataframe thead th {\n        text-align: right;\n    }\n</style>\n<table border=\"1\" class=\"dataframe\">\n  <thead>\n    <tr style=\"text-align: right;\">\n      <th></th>\n      <th>Size</th>\n      <th>Bedrooms</th>\n      <th>Price</th>\n    </tr>\n  </thead>\n  <tbody>\n    <tr>\n      <th>0</th>\n      <td>2104</td>\n      <td>3</td>\n      <td>399900</td>\n    </tr>\n    <tr>\n      <th>1</th>\n      <td>1600</td>\n      <td>3</td>\n      <td>329900</td>\n    </tr>\n    <tr>\n      <th>2</th>\n      <td>2400</td>\n      <td>3</td>\n      <td>369000</td>\n    </tr>\n    <tr>\n      <th>3</th>\n      <td>1416</td>\n      <td>2</td>\n      <td>232000</td>\n    </tr>\n    <tr>\n      <th>4</th>\n      <td>3000</td>\n      <td>4</td>\n      <td>539900</td>\n    </tr>\n  </tbody>\n</table>\n</div>"
     },
     "execution_count": 162,
     "metadata": {},
     "output_type": "execute_result"
    }
   ],
   "source": [
    "path =  'ex1data2.txt'\n",
    "data2 = pd.read_csv(path, header=None, names=['Size', 'Bedrooms', 'Price'])\n",
    "data2.head()"
   ],
   "metadata": {
    "collapsed": false,
    "pycharm": {
     "name": "#%%\n"
    }
   }
  },
  {
   "cell_type": "code",
   "execution_count": 163,
   "outputs": [
    {
     "data": {
      "text/plain": "       Size  Bedrooms     Price\n0  0.130010 -0.223675  0.475747\n1 -0.504190 -0.223675 -0.084074\n2  0.502476 -0.223675  0.228626\n3 -0.735723 -1.537767 -0.867025\n4  1.257476  1.090417  1.595389",
      "text/html": "<div>\n<style scoped>\n    .dataframe tbody tr th:only-of-type {\n        vertical-align: middle;\n    }\n\n    .dataframe tbody tr th {\n        vertical-align: top;\n    }\n\n    .dataframe thead th {\n        text-align: right;\n    }\n</style>\n<table border=\"1\" class=\"dataframe\">\n  <thead>\n    <tr style=\"text-align: right;\">\n      <th></th>\n      <th>Size</th>\n      <th>Bedrooms</th>\n      <th>Price</th>\n    </tr>\n  </thead>\n  <tbody>\n    <tr>\n      <th>0</th>\n      <td>0.130010</td>\n      <td>-0.223675</td>\n      <td>0.475747</td>\n    </tr>\n    <tr>\n      <th>1</th>\n      <td>-0.504190</td>\n      <td>-0.223675</td>\n      <td>-0.084074</td>\n    </tr>\n    <tr>\n      <th>2</th>\n      <td>0.502476</td>\n      <td>-0.223675</td>\n      <td>0.228626</td>\n    </tr>\n    <tr>\n      <th>3</th>\n      <td>-0.735723</td>\n      <td>-1.537767</td>\n      <td>-0.867025</td>\n    </tr>\n    <tr>\n      <th>4</th>\n      <td>1.257476</td>\n      <td>1.090417</td>\n      <td>1.595389</td>\n    </tr>\n  </tbody>\n</table>\n</div>"
     },
     "execution_count": 163,
     "metadata": {},
     "output_type": "execute_result"
    }
   ],
   "source": [
    "data2 = (data2 - data2.mean()) / data2.std()\n",
    "data2.head()\n"
   ],
   "metadata": {
    "collapsed": false,
    "pycharm": {
     "name": "#%%\n"
    }
   }
  },
  {
   "cell_type": "code",
   "execution_count": 164,
   "outputs": [
    {
     "data": {
      "text/plain": "matrix([[-9.47882434e-17,  8.84042349e-01, -5.24551809e-02]])"
     },
     "execution_count": 164,
     "metadata": {},
     "output_type": "execute_result"
    }
   ],
   "source": [
    "# 加一列常数项\n",
    "data2.insert(0, 'Ones', 1)\n",
    "\n",
    "# 初始化X和y\n",
    "cols = data2.shape[1]\n",
    "X2 = data2.iloc[:,0:cols-1]\n",
    "y2 = data2.iloc[:,cols-1:cols]\n",
    "\n",
    "# 转换成matrix格式，初始化theta\n",
    "X2 = np.matrix(X2.values)\n",
    "y2 = np.matrix(y2.values)\n",
    "theta2 = np.matrix(np.array([0,0,0]))\n",
    "\n",
    "# 运行梯度下降算法\n",
    "g2, cost2 = gradientDescent(X2, y2, theta2, alpha, iters)\n",
    "g2"
   ],
   "metadata": {
    "collapsed": false,
    "pycharm": {
     "name": "#%%\n"
    }
   }
  },
  {
   "cell_type": "code",
   "execution_count": 165,
   "outputs": [],
   "source": [
    "# 正规方程\n",
    "def normalEqn(X, y):\n",
    "    theta = np.linalg.inv(X.T@X)@X.T@y#X.T@X等价于X.T.dot(X)\n",
    "    return theta\n"
   ],
   "metadata": {
    "collapsed": false,
    "pycharm": {
     "name": "#%%\n"
    }
   }
  },
  {
   "cell_type": "code",
   "execution_count": 166,
   "outputs": [
    {
     "data": {
      "text/plain": "array([[-3.89578088],\n       [ 1.19303364]])"
     },
     "execution_count": 166,
     "metadata": {},
     "output_type": "execute_result"
    }
   ],
   "source": [
    "final_theta2=normalEqn(X, y)#这里用的是data1的数据\n",
    "final_theta2\n"
   ],
   "metadata": {
    "collapsed": false,
    "pycharm": {
     "name": "#%%\n"
    }
   }
  }
 ],
 "metadata": {
  "kernelspec": {
   "name": "pt38",
   "language": "python",
   "display_name": "pt38"
  },
  "language_info": {
   "codemirror_mode": {
    "name": "ipython",
    "version": 2
   },
   "file_extension": ".py",
   "mimetype": "text/x-python",
   "name": "python",
   "nbconvert_exporter": "python",
   "pygments_lexer": "ipython2",
   "version": "2.7.6"
  }
 },
 "nbformat": 4,
 "nbformat_minor": 0
}