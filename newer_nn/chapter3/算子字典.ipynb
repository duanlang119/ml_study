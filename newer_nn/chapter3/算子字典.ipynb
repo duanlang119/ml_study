{
 "cells": [
  {
   "cell_type": "code",
   "execution_count": 65,
   "metadata": {},
   "outputs": [],
   "source": [
    "import torch \n",
    "import torch.nn as nn\n",
    "import math\n",
    "import numpy as np\n",
    "import pandas\n",
    "import matplotlib.pyplot as plt"
   ]
  },
  {
   "cell_type": "markdown",
   "metadata": {},
   "source": [
    "### 基本方法"
   ]
  },
  {
   "cell_type": "code",
   "execution_count": 6,
   "metadata": {},
   "outputs": [
    {
     "name": "stdout",
     "output_type": "stream",
     "text": [
      "False\n",
      "True\n"
     ]
    }
   ],
   "source": [
    "#如何判断一个对象是否为Tensor张量\n",
    "obj = np.arange(1,10)\n",
    "print(torch.is_tensor(obj))\n",
    "obj1 = torch.Tensor(10)\n",
    "print(torch.is_tensor(obj1))"
   ]
  },
  {
   "cell_type": "code",
   "execution_count": 16,
   "metadata": {},
   "outputs": [
    {
     "name": "stdout",
     "output_type": "stream",
     "text": [
      "torch.float64\n"
     ]
    }
   ],
   "source": [
    "#如何全局设置Tensor数据类型？\n",
    "torch.set_default_tensor_type(torch.DoubleTensor)\n",
    "print(torch.Tensor(2).dtype)"
   ]
  },
  {
   "cell_type": "code",
   "execution_count": 26,
   "metadata": {},
   "outputs": [
    {
     "name": "stdout",
     "output_type": "stream",
     "text": [
      "False\n",
      "True\n"
     ]
    }
   ],
   "source": [
    "#如何判断一个对象是否为Pytorch Storage对象\n",
    "#torch.Storage is a contiguous, one-dimensional array of a single data type.\n",
    "print(torch.is_storage(obj))\n",
    "storage = torch.DoubleStorage([2,3])\n",
    "print(torch.is_storage(storage))"
   ]
  },
  {
   "cell_type": "code",
   "execution_count": 33,
   "metadata": {},
   "outputs": [
    {
     "name": "stdout",
     "output_type": "stream",
     "text": [
      "12\n"
     ]
    }
   ],
   "source": [
    "#如何获取Tensor中元素的个数\n",
    "a = torch.Tensor(3,4)\n",
    "print(torch.numel(a))"
   ]
  },
  {
   "cell_type": "code",
   "execution_count": 52,
   "metadata": {},
   "outputs": [
    {
     "name": "stdout",
     "output_type": "stream",
     "text": [
      "tensor([[ 6.95231e-310,  6.95231e-310,  6.95229e-310,  4.52355e+257],\n",
      "        [ 1.28626e+248,  2.43209e-152,   1.53250e-94,  2.14728e+243],\n",
      "        [  0.00000e+00,  4.77497e+180,  6.95231e-310,  6.95231e-310],\n",
      "        [ 6.95229e-310,   2.57664e+97,   1.72733e+97,  2.25153e-310],\n",
      "        [ 6.84979e+180, -3.50707e-311,   0.00000e+00,  2.04737e+190],\n",
      "        [ 6.95231e-310,  6.95231e-310,  6.95229e-310,  9.82202e+252],\n",
      "        [ 6.16779e+223,  2.41318e+185,  1.67772e+243,   1.52781e-94],\n",
      "        [  0.00000e+00,  1.99502e+161,  6.95231e-310,  6.95231e-310],\n",
      "        [ 6.95229e-310,  4.24336e+175,  1.06025e-153,  7.36507e+228],\n",
      "        [ 4.67352e+257,  1.30489e+180,   0.00000e+00,   0.00000e+00]])\n"
     ]
    }
   ],
   "source": [
    "#如何设置打印选项？\n",
    "#precision=None, threshold=None, edgeitems=None, linewidth=None, profile=None\n",
    "torch.set_printoptions(precision=5,threshold=100,linewidth=100,edgeitems=4)\n",
    "print(torch.DoubleTensor(10,4))"
   ]
  },
  {
   "cell_type": "code",
   "execution_count": 99,
   "metadata": {},
   "outputs": [
    {
     "name": "stdout",
     "output_type": "stream",
     "text": [
      "tensor([[1., 0., 0.],\n",
      "        [0., 1., 0.],\n",
      "        [0., 0., 1.]])\n"
     ]
    }
   ],
   "source": [
    "#如何创建单位矩阵\n",
    "a = torch.eye(3,3)\n",
    "print(a)"
   ]
  },
  {
   "cell_type": "code",
   "execution_count": 81,
   "metadata": {},
   "outputs": [
    {
     "name": "stdout",
     "output_type": "stream",
     "text": [
      "tensor([ 1,  3,  5,  7,  9, 11, 13, 15, 17, 19], dtype=torch.int32)\n",
      "tensor([[6.95232e-310, 6.95232e-310, 6.95232e-310],\n",
      "        [6.95232e-310, 6.95232e-310, 6.95232e-310]])\n"
     ]
    }
   ],
   "source": [
    "#如何从numpy多维数组创建Tensor张量\n",
    "a = np.arange(1,20,2)\n",
    "print(torch.from_numpy(a))\n",
    "b = np.ndarray((2,3))\n",
    "print(torch.from_numpy(b))"
   ]
  },
  {
   "cell_type": "code",
   "execution_count": 77,
   "metadata": {},
   "outputs": [
    {
     "name": "stdout",
     "output_type": "stream",
     "text": [
      "tensor([1., 3., 5., 7., 9.], requires_grad=True)\n"
     ]
    }
   ],
   "source": [
    "#如何创建等差数列\n",
    "b =  torch.Tensor()\n",
    "print(torch.linspace(1,9,5,requires_grad=True))"
   ]
  },
  {
   "cell_type": "code",
   "execution_count": 84,
   "metadata": {},
   "outputs": [
    {
     "name": "stdout",
     "output_type": "stream",
     "text": [
      "tensor([1.00000e+01, 1.00000e+02, 1.00000e+03, 1.00000e+04, 1.00000e+05], requires_grad=True)\n"
     ]
    }
   ],
   "source": [
    "#和linspace类似的logspace\n",
    "print(torch.logspace(1,5,5,requires_grad=True))"
   ]
  },
  {
   "cell_type": "code",
   "execution_count": 86,
   "metadata": {},
   "outputs": [
    {
     "name": "stdout",
     "output_type": "stream",
     "text": [
      "tensor([[1., 1., 1.],\n",
      "        [1., 1., 1.]])\n"
     ]
    }
   ],
   "source": [
    "#如何创建元素全部为1的矩阵\n",
    "print(torch.ones(2,3))"
   ]
  },
  {
   "cell_type": "code",
   "execution_count": 93,
   "metadata": {},
   "outputs": [
    {
     "name": "stdout",
     "output_type": "stream",
     "text": [
      "tensor([[0.12264, 0.37531, 0.02611],\n",
      "        [0.38838, 0.80195, 0.34111]], requires_grad=True)\n"
     ]
    }
   ],
   "source": [
    "#如何创建0,1均匀的随机矩阵，形状可以指定\n",
    "print(torch.rand(2,3,requires_grad=True))"
   ]
  },
  {
   "cell_type": "code",
   "execution_count": 92,
   "metadata": {},
   "outputs": [
    {
     "name": "stdout",
     "output_type": "stream",
     "text": [
      "tensor([[ 0.92620, -2.99641,  0.71482],\n",
      "        [-1.12788, -0.43067,  0.58641]])\n"
     ]
    }
   ],
   "source": [
    "#如何创建标准正太分布随机矩阵？形状可以指定\n",
    "print(torch.randn(2,3))"
   ]
  },
  {
   "cell_type": "code",
   "execution_count": 96,
   "metadata": {},
   "outputs": [
    {
     "name": "stdout",
     "output_type": "stream",
     "text": [
      "[2 6 1 7 0 5 4 3 9 8]\n",
      "tensor([2, 3, 8, 7, 9, 4, 6, 5, 1, 0])\n"
     ]
    }
   ],
   "source": [
    "#如何创建随机整数序列，如同numpy.random.permutation?\n",
    "print(numpy.random.permutation(10))\n",
    "print(torch.randperm(10))"
   ]
  },
  {
   "cell_type": "code",
   "execution_count": 98,
   "metadata": {
    "scrolled": true
   },
   "outputs": [
    {
     "name": "stdout",
     "output_type": "stream",
     "text": [
      "[1 4 7]\n",
      "tensor([1, 4, 7])\n"
     ]
    }
   ],
   "source": [
    "#如何创建一个列表如同numpy中的arange?\n",
    "print(np.arange(1,10,3))\n",
    "print(torch.arange(1,10,3))"
   ]
  },
  {
   "cell_type": "code",
   "execution_count": 100,
   "metadata": {},
   "outputs": [
    {
     "name": "stdout",
     "output_type": "stream",
     "text": [
      "tensor([[0., 0.],\n",
      "        [0., 0.]])\n"
     ]
    }
   ],
   "source": [
    "#如何创建一个全0的矩阵？\n",
    "print(torch.zeros(2,2))"
   ]
  },
  {
   "cell_type": "markdown",
   "metadata": {},
   "source": [
    "### 索引、切片、拼接及换位方法"
   ]
  },
  {
   "cell_type": "code",
   "execution_count": 218,
   "metadata": {},
   "outputs": [
    {
     "name": "stdout",
     "output_type": "stream",
     "text": [
      "tensor([[1., 1., 1.],\n",
      "        [1., 1., 1.],\n",
      "        [1., 1., 1.],\n",
      "        [1., 1., 1.]])\n",
      "tensor([[1., 1., 1., 1., 1., 1., 1., 1., 1.],\n",
      "        [1., 1., 1., 1., 1., 1., 1., 1., 1.]])\n",
      "tensor([[[1., 1.],\n",
      "         [1., 1.],\n",
      "         [1., 1.]],\n",
      "\n",
      "        [[1., 1.],\n",
      "         [1., 1.],\n",
      "         [1., 1.]]])\n"
     ]
    }
   ],
   "source": [
    "#如何将多个Tensor按照某一维度拼接起来？\n",
    "tensor = torch.ones(2,3)\n",
    "print(torch.cat([tensor,tensor]))\n",
    "print(torch.cat([tensor,tensor,tensor],dim=1))\n",
    "#stack方法也可以进行tensor的拼接\n",
    "print(torch.stack([tensor,tensor],dim=2))"
   ]
  },
  {
   "cell_type": "code",
   "execution_count": 145,
   "metadata": {},
   "outputs": [
    {
     "name": "stdout",
     "output_type": "stream",
     "text": [
      "(tensor([[1., 1.],\n",
      "        [1., 1.]]), tensor([[1., 1.],\n",
      "        [1., 1.]]), tensor([[1., 1.],\n",
      "        [1., 1.]]), tensor([[1., 1.],\n",
      "        [1., 1.]]), tensor([[1., 1.],\n",
      "        [1., 1.]]))\n",
      "(tensor([[1., 1.],\n",
      "        [1., 1.]]), tensor([[1., 1.],\n",
      "        [1., 1.]]), tensor([[1., 1.],\n",
      "        [1., 1.]]), tensor([[1., 1.],\n",
      "        [1., 1.]]), tensor([[1., 1.],\n",
      "        [1., 1.]]))\n"
     ]
    }
   ],
   "source": [
    "#如何将一个Tensor按照指定维度切片成n个分片？\n",
    "#按照第二维度将tensor切分为5个tensor\n",
    "x = torch.ones(2,10)\n",
    "print(torch.chunk(x,5,dim=1))"
   ]
  },
  {
   "cell_type": "code",
   "execution_count": 115,
   "metadata": {},
   "outputs": [
    {
     "data": {
      "text/plain": [
       "tensor([[33., 66.],\n",
       "        [88., 99.]])"
      ]
     },
     "execution_count": 115,
     "metadata": {},
     "output_type": "execute_result"
    }
   ],
   "source": [
    "#如何按照索引进行元素的聚合？\n",
    "#如何将元素33,66,88,99聚合在一起?\n",
    "#第一个参数是源tensor,第二个参数为维度，第三个参数为索引\n",
    "x = torch.Tensor([[33,66,9],[1,99,88]])\n",
    "torch.gather(x,1,torch.LongTensor([[0,1],[2,1]]))"
   ]
  },
  {
   "cell_type": "code",
   "execution_count": 125,
   "metadata": {},
   "outputs": [
    {
     "name": "stdout",
     "output_type": "stream",
     "text": [
      "tensor([[-0.26020,  0.48570, -0.49547,  1.57589, -0.17201,  0.11631,  0.48189],\n",
      "        [-0.35056, -0.31785,  0.14796, -2.50720,  0.99119,  0.89042, -1.62519]])\n",
      "tensor([[ 0.48570,  1.57589,  0.11631],\n",
      "        [-0.31785, -2.50720,  0.89042]])\n",
      "tensor([[-0.35056, -0.31785,  0.14796, -2.50720,  0.99119,  0.89042, -1.62519]])\n"
     ]
    }
   ],
   "source": [
    "#如何按照索引选择目标数据？\n",
    "#如何取出第2、4、6列数据，返回新的tensor\n",
    "x = torch.randn(2,7)\n",
    "print(x)\n",
    "#第一个参数为源tensor,第二个参数为维度，第三个参数为该维度上的索引\n",
    "y = torch.index_select(x,1,torch.LongTensor([1,3,5]))\n",
    "print(y)\n",
    "z = torch.index_select(x,0,torch.LongTensor([1]))\n",
    "print(z)"
   ]
  },
  {
   "cell_type": "code",
   "execution_count": 131,
   "metadata": {},
   "outputs": [
    {
     "name": "stdout",
     "output_type": "stream",
     "text": [
      "tensor([[0.18211, 0.72952, 0.85274, 0.14525],\n",
      "        [0.00986, 0.32629, 0.65850, 0.44055]])\n",
      "tensor([[0, 1, 1, 0],\n",
      "        [0, 0, 1, 0]], dtype=torch.uint8)\n"
     ]
    },
    {
     "data": {
      "text/plain": [
       "tensor([0.72952, 0.85274, 0.65850])"
      ]
     },
     "execution_count": 131,
     "metadata": {},
     "output_type": "execute_result"
    }
   ],
   "source": [
    "#如何选出满足条件的所有元素\n",
    "#masked_select方法，返回mask标志为1的所有元素组成的1维Tensor\n",
    "x = torch.rand(2,4)\n",
    "print(x)\n",
    "mask = x.ge(0.5)\n",
    "print(mask)\n",
    "torch.masked_select(x,mask)"
   ]
  },
  {
   "cell_type": "code",
   "execution_count": 141,
   "metadata": {},
   "outputs": [
    {
     "name": "stdout",
     "output_type": "stream",
     "text": [
      "tensor([[[ 0.00000, 11.00000],\n",
      "         [66.00000, 88.00000]],\n",
      "\n",
      "        [[22.00000, 33.00000],\n",
      "         [ 0.00000,  0.10000]]])\n"
     ]
    },
    {
     "data": {
      "text/plain": [
       "tensor([[0, 0, 1],\n",
       "        [0, 1, 0],\n",
       "        [0, 1, 1],\n",
       "        [1, 0, 0],\n",
       "        [1, 0, 1],\n",
       "        [1, 1, 1]])"
      ]
     },
     "execution_count": 141,
     "metadata": {},
     "output_type": "execute_result"
    }
   ],
   "source": [
    "#如何找出矩阵中非零元素的索引？\n",
    "#nonzero方法返回非零的索引，结果tensor为二维tensor，行数等于源tensor中非零元素个数，列数等于源tensor的维度\n",
    "x = torch.Tensor([[[0.0,11],[66,88]],[[22,33],[0.0,0.1]]])\n",
    "print(x)\n",
    "torch.nonzero(x)"
   ]
  },
  {
   "cell_type": "code",
   "execution_count": 165,
   "metadata": {},
   "outputs": [
    {
     "name": "stdout",
     "output_type": "stream",
     "text": [
      "tensor([[1., 1., 1., 1., 1., 1., 1., 1., 1., 1.],\n",
      "        [1., 1., 1., 1., 1., 1., 1., 1., 1., 1.]])\n",
      "(tensor([[1., 1., 1., 1., 1.],\n",
      "        [1., 1., 1., 1., 1.]]), tensor([[1., 1., 1., 1., 1.],\n",
      "        [1., 1., 1., 1., 1.]]))\n",
      "(tensor([[1.],\n",
      "        [1.]]), tensor([[1., 1.],\n",
      "        [1., 1.]]), tensor([[1., 1., 1.],\n",
      "        [1., 1., 1.]]), tensor([[1., 1., 1., 1.],\n",
      "        [1., 1., 1., 1.]]))\n"
     ]
    }
   ],
   "source": [
    "#如何将输入张量分割成相大小的chunks?\n",
    "x = torch.ones(2,10)\n",
    "print(x)\n",
    "#每个块5个长度的元素，dim表示按第二维度\n",
    "print(torch.split(x,5,dim=1))\n",
    "#也可指定一个划分列表，依次表示有1,2,3,4个长度\n",
    "print(torch.split(x,[1,2,3,4],dim=1))"
   ]
  },
  {
   "cell_type": "code",
   "execution_count": 236,
   "metadata": {},
   "outputs": [
    {
     "name": "stdout",
     "output_type": "stream",
     "text": [
      "tensor([[1., 2., 3., 4., 5., 6.]])\n",
      "tensor([[1.],\n",
      "        [2.],\n",
      "        [3.],\n",
      "        [4.],\n",
      "        [5.],\n",
      "        [6.]])\n",
      "tensor([[1., 2., 3., 4., 5., 6.]])\n"
     ]
    }
   ],
   "source": [
    "#如何给矩阵增加维度\n",
    "x = torch.Tensor([1,2,3,4,5,6])\n",
    "#dim关键字参数指定在第几维度增加`[]`\n",
    "y = x.unsqueeze(dim=0)\n",
    "print(y)\n",
    "z = x.unsqueeze(dim=1)\n",
    "print(z)\n",
    "print(torch.unsqueeze(x,dim=0))"
   ]
  },
  {
   "cell_type": "code",
   "execution_count": 234,
   "metadata": {},
   "outputs": [
    {
     "name": "stdout",
     "output_type": "stream",
     "text": [
      "tensor([[[ 0.,  2.,  3.,  4.],\n",
      "         [22., 33., 44., 55.]]]) torch.Size([1, 2, 4])\n",
      "tensor([[ 0.,  2.,  3.,  4.],\n",
      "        [22., 33., 44., 55.]]) torch.Size([2, 4])\n",
      "tensor([[ 0.,  2.,  3.,  4.],\n",
      "        [22., 33., 44., 55.]]) torch.Size([2, 4])\n"
     ]
    }
   ],
   "source": [
    "#如何去掉`[]`降低维度？去维度为1的\n",
    "x = torch.Tensor([[[0,2,3,4],[22,33,44,55]]])\n",
    "print(x,x.shape)\n",
    "#dim关键字参数指定在地接个维度是`1`,squeeze将去除掉这个维度\n",
    "y = torch.squeeze(x,dim=0)\n",
    "print(y,y.shape)\n",
    "z = x.squeeze(dim=0)\n",
    "print(z,z.shape)"
   ]
  },
  {
   "cell_type": "code",
   "execution_count": 238,
   "metadata": {},
   "outputs": [
    {
     "name": "stdout",
     "output_type": "stream",
     "text": [
      "tensor([[ 1.18556],\n",
      "        [-0.02856]]) torch.Size([2, 1])\n",
      "tensor([[ 1.18556, -0.02856]]) torch.Size([1, 2])\n",
      "tensor([[ 1.18556, -0.02856]]) torch.Size([1, 2])\n",
      "tensor([[ 1.18556, -0.02856]])\n",
      "tensor([[ 1.18556, -0.02856]])\n"
     ]
    }
   ],
   "source": [
    "#如何实现tensor维度之间的转置\n",
    "#tensor自身的t和transpose方法跟torch上的t和transpose方法功能类似\n",
    "x = torch.randn(2,1)\n",
    "print(x,x.shape)\n",
    "y = torch.t(x)\n",
    "print(y,y.shape)\n",
    "z = torch.transpose(x,1,0)\n",
    "print(z,z.shape)\n",
    "print(x.t())\n",
    "print(x.transpose(1,0))"
   ]
  },
  {
   "cell_type": "code",
   "execution_count": 248,
   "metadata": {},
   "outputs": [
    {
     "name": "stdout",
     "output_type": "stream",
     "text": [
      "tensor([[[0.90266, 0.19014],\n",
      "         [0.64815, 0.87569]],\n",
      "\n",
      "        [[0.94966, 0.53289],\n",
      "         [0.94499, 0.76736]]])\n",
      "(tensor([[0.90266, 0.19014],\n",
      "        [0.94966, 0.53289]]), tensor([[0.64815, 0.87569],\n",
      "        [0.94499, 0.76736]]))\n"
     ]
    }
   ],
   "source": [
    "#unbind删除某一维度之后，返回所有切片组成的元祖列表\n",
    "x = torch.rand(2,2,2)\n",
    "print(x)\n",
    "print(torch.unbind(x,dim=1))"
   ]
  },
  {
   "cell_type": "markdown",
   "metadata": {},
   "source": [
    "### 随机抽样"
   ]
  },
  {
   "cell_type": "code",
   "execution_count": 280,
   "metadata": {},
   "outputs": [
    {
     "name": "stdout",
     "output_type": "stream",
     "text": [
      "seed:123\n",
      "state:tensor([123,   0,   0,   0,  ...,   0,   0,   0,   0], dtype=torch.uint8) 5048\n"
     ]
    }
   ],
   "source": [
    "#手动设置随机种子\n",
    "torch.manual_seed(123)\n",
    "#如果没有手动设置随机种子，则返回系统生成的随机种子；否则返回手动设置的随机种子\n",
    "seed = torch.initial_seed()\n",
    "print(\"seed:{}\".format(seed))\n",
    "#返回随机生成器状态\n",
    "state = torch.get_rng_state()\n",
    "print(\"state:{}\".format(state),len(state))"
   ]
  },
  {
   "cell_type": "code",
   "execution_count": 304,
   "metadata": {},
   "outputs": [
    {
     "name": "stdout",
     "output_type": "stream",
     "text": [
      "tensor([[0.36890, 0.01337, 0.59178],\n",
      "        [0.09264, 0.47245, 0.52203],\n",
      "        [0.60508, 0.53130, 0.94855]])\n",
      "tensor([[1., 0., 1.],\n",
      "        [0., 1., 1.],\n",
      "        [1., 0., 1.]])\n"
     ]
    }
   ],
   "source": [
    "#伯努利分布，结果只有0和1，第一个参数是概率p,并且0<=p<=1,\n",
    "torch.manual_seed(123)\n",
    "a = torch.rand(3, 3)\n",
    "print(a)\n",
    "b = torch.bernoulli(a)\n",
    "print(b)"
   ]
  },
  {
   "cell_type": "code",
   "execution_count": 361,
   "metadata": {},
   "outputs": [
    {
     "name": "stdout",
     "output_type": "stream",
     "text": [
      "tensor([[0, 1, 2],\n",
      "        [3, 0, 2]])\n",
      "tensor([[0, 0, 1, 0, 0, 1, 3, 0, 0, 2],\n",
      "        [3, 3, 3, 3, 3, 3, 0, 3, 3, 0]])\n",
      "tensor([[0, 0, 1, 2, 2, 0, 1, 2, 0, 0, 1, 0, 0, 1, 1],\n",
      "        [3, 3, 3, 2, 0, 0, 3, 0, 0, 0, 2, 2, 3, 3, 3]])\n",
      "tensor([[1, 0, 2, 3],\n",
      "        [0, 3, 1, 2]])\n"
     ]
    }
   ],
   "source": [
    "#多项式分布抽样\n",
    "#torch.multimomial第一个参数为多项式权重，可以是向量也可以为矩阵，有权重决定对`下标`的抽样\n",
    "#为向量：replacement表示是否有放回的抽样，如果为True，结果行数为1，列数有num_samples指定；否则行数为1，列数<=权重weights长度\n",
    "weights1 = torch.Tensor([20, 10, 3, 2])\n",
    "a = torch.multinomial(weights,num_samples=3,replacement=False)\n",
    "b = torch.multinomial(weights,num_samples=10,replacement=True)\n",
    "print(a)\n",
    "print(b)\n",
    "#为矩阵：replacement表示是否有放回的抽样，如果为True，结果行数为weights行数，列数由num_samples指定；\n",
    "#否则行数为weights行数，列数<=权重weights每一行长度\n",
    "weights2 = torch.Tensor([[20, 10, 3, 2],[30,4,5,60]])\n",
    "c = torch.multinomial(weights,num_samples=15,replacement=True)\n",
    "d = torch.multinomial(weights,num_samples=4,replacement=False)\n",
    "print(c)\n",
    "print(d)"
   ]
  },
  {
   "cell_type": "code",
   "execution_count": 19,
   "metadata": {},
   "outputs": [
    {
     "name": "stdout",
     "output_type": "stream",
     "text": [
      "tensor([ 0.4248,  0.3964,  0.4494,  ...,  0.9055,  0.2543, -0.3518])\n",
      "tensor([ 0.5807,  0.4270, -0.2506,  0.2640,  0.1797,  0.4377,  1.1154,  0.6373,\n",
      "         0.4479])\n",
      "tensor([0.0370, 0.2305, 0.3554, 0.6012, 0.6571, 1.5476, 0.1952, 0.6846, 2.8770])\n"
     ]
    },
    {
     "data": {
      "image/png": "[encoded data removed]",
      "text/plain": [
       "<Figure size 432x288 with 1 Axes>"
      ]
     },
     "metadata": {
      "needs_background": "light"
     },
     "output_type": "display_data"
    }
   ],
   "source": [
    "#从正太分布中抽取随机数\n",
    "#均值为0.5，方差为[0.10000, 0.20000, 0.30000, 0.40000, 0.50000, 0.60000, 0.70000, 0.80000, 0.90000]\n",
    "x = torch.normal(mean=0.5, std=torch.arange(0.1, 1, 0.0001))\n",
    "print(x)\n",
    "#均值为[0.10000, 0.20000, 0.30000, 0.40000, 0.50000, 0.60000, 0.70000, 0.80000, 0.90000]，方差为0.5\n",
    "y = torch.normal(mean=torch.arange(0.1,1,0.1),std=0.5)\n",
    "print(y)\n",
    "#均值为[0.10000, 0.20000, 0.30000, 0.40000, 0.50000, 0.60000, 0.70000, 0.80000, 0.90000]\n",
    "#方差为[0.10000, 0.20000, 0.30000, 0.40000, 0.50000, 0.60000, 0.70000, 0.80000, 0.90000]\n",
    "z = torch.normal(mean=torch.arange(0.1,1,0.1),std=torch.arange(0.1,1,0.1))\n",
    "print(z)\n",
    "plt.plot(torch.arange(0.1, 1, 0.0001).data.numpy(),x.data.numpy())\n",
    "plt.show()"
   ]
  },
  {
   "cell_type": "markdown",
   "metadata": {},
   "source": [
    "### 序列化与反序列化"
   ]
  },
  {
   "cell_type": "code",
   "execution_count": 8,
   "metadata": {},
   "outputs": [
    {
     "name": "stdout",
     "output_type": "stream",
     "text": [
      "tensor([[ 0.6560, -1.4981,  0.7547],\n",
      "        [ 0.6677,  0.4550,  1.3934]])\n"
     ]
    }
   ],
   "source": [
    "#序列化模型\n",
    "x = torch.randn(2,3)\n",
    "#序列化torch.save方法\n",
    "torch.save(x,\"randn\")\n",
    "#反序列化torch.load方法\n",
    "x_load = torch.load(\"randn\")\n",
    "print(x_load)"
   ]
  },
  {
   "cell_type": "markdown",
   "metadata": {},
   "source": [
    "### 并行化"
   ]
  },
  {
   "cell_type": "code",
   "execution_count": 28,
   "metadata": {},
   "outputs": [
    {
     "name": "stdout",
     "output_type": "stream",
     "text": [
      "6\n",
      "4\n"
     ]
    }
   ],
   "source": [
    "#torch默认的线程数量等于计算机内核个数\n",
    "threads = torch.get_num_threads()\n",
    "print(threads)\n",
    "#可通过set_num_threads方法，设置并发数\n",
    "torch.set_num_threads(4)\n",
    "threads_1 = torch.get_num_threads()\n",
    "print(threads_1)"
   ]
  },
  {
   "cell_type": "markdown",
   "metadata": {},
   "source": [
    "### 元素级别的数学运算"
   ]
  },
  {
   "cell_type": "code",
   "execution_count": 78,
   "metadata": {},
   "outputs": [
    {
     "name": "stdout",
     "output_type": "stream",
     "text": [
      "tensor([1.0000, 0.5000, 0.1230, 0.4000, 0.5000, 0.9900])\n",
      "tensor([2.0000, 2.5000, 2.8770, 3.4000, 3.5000, 3.9900])\n",
      "tensor([0.5403, 0.8776, 0.9924, 0.9211, 0.8776, 0.5487])\n",
      "tensor([3.1416, 2.0944, 1.6941, 1.1593, 1.0472, 0.1415])\n"
     ]
    }
   ],
   "source": [
    "#求元素绝对值\n",
    "a = torch.Tensor([-1,-0.5,-0.123,0.4,0.5,0.99])\n",
    "print(torch.abs(a))\n",
    "#每个元素加“n”\n",
    "print(torch.add(a,3))\n",
    "#余弦\n",
    "print(torch.cos(a))\n",
    "#反余弦\n",
    "print(torch.acos(a))"
   ]
  },
  {
   "cell_type": "code",
   "execution_count": 51,
   "metadata": {},
   "outputs": [
    {
     "name": "stdout",
     "output_type": "stream",
     "text": [
      "tensor([-0.8000,  0.4000,  0.0770,  0.6000,  0.6000,  1.2900])\n",
      "tensor([-0.2000,  0.4000,  0.6770,  2.2000,  5.4000,  1.2900])\n"
     ]
    }
   ],
   "source": [
    "#tensor相除再相加:a+0.1*tensor_a/tensor_b,返回新的结果;需要注意的是a元素个数需要等于tensor_a/tensor_b元素个数\n",
    "x = torch.addcdiv(a,0.1,torch.Tensor([4,9,4,6,7,3]),torch.Tensor([2,1,2,3,7,1]))\n",
    "print(x)\n",
    "#tensor相乘再相加:a+0.1*tensor_a*tensor_b,返回新的tensor;需要注意的是a元素个数需要等于tensor_a*tensor_b元素个数\n",
    "y = torch.addcmul(a,0.1,torch.Tensor([4,9,4,6,7,3]),torch.Tensor([2,1,2,3,7,1]))\n",
    "print(y)"
   ]
  },
  {
   "cell_type": "code",
   "execution_count": 143,
   "metadata": {},
   "outputs": [
    {
     "name": "stdout",
     "output_type": "stream",
     "text": [
      "tensor([[-9., -1., -8., -0.,  2.],\n",
      "        [ 2.,  4.,  5.,  9., -7.]])\n",
      "tensor([[-10.,  -2.,  -8.,  -1.,   1.],\n",
      "        [  1.,   3.,   4.,   8.,  -8.]])\n",
      "tensor([[-5.5000, -1.9000, -5.5000, -0.3000,  1.5100],\n",
      "        [ 1.2000,  3.8000,  4.0100,  5.5000, -5.5000]])\n",
      "tensor([[-0.9120, -0.1900, -0.8000, -0.0300,  0.1510],\n",
      "        [ 0.1200,  0.3800,  0.4010,  0.8880, -0.7600]])\n",
      "tensor([[ 9.1200,  1.9000,  8.0000,  0.3000, -1.5100],\n",
      "        [-1.2000, -3.8000, -4.0100, -8.8800,  7.6000]])\n",
      "tensor([[-0.1096, -0.5263, -0.1250, -3.3333,  0.6623],\n",
      "        [ 0.8333,  0.2632,  0.2494,  0.1126, -0.1316]])\n",
      "tensor([0.8138, 0.9129, 0.5130, 0.4994, 0.3356])\n",
      "tensor([2., 4.])\n"
     ]
    }
   ],
   "source": [
    "#向上取整\n",
    "x = torch.Tensor([[-9.12,-1.9,-8,-0.3,1.51],[1.2,3.8,4.01,8.88,-7.6]])\n",
    "print(torch.ceil(x))\n",
    "#向下取整\n",
    "print(torch.floor(x))\n",
    "#夹逼函数，将每个元素限制在给定区间范围内,小于范围下限的被强制设置为下限值；大于上限的被强制设置为上限值\n",
    "print(torch.clamp(x,-5.5,5.5))\n",
    "#乘法\n",
    "print(torch.mul(x,0.1))\n",
    "#取相反数\n",
    "print(torch.neg(x))\n",
    "#取倒数\n",
    "print(torch.reciprocal(x))\n",
    "#取平方根倒数：每个元素的平方根倒数\n",
    "print(torch.rsqrt(x[x>0]))\n",
    "#求平方根\n",
    "print(torch.sqrt(torch.Tensor([4,16])))\n"
   ]
  },
  {
   "cell_type": "code",
   "execution_count": 125,
   "metadata": {},
   "outputs": [
    {
     "name": "stdout",
     "output_type": "stream",
     "text": [
      "tensor([1.3333, 3.0000])\n",
      "tensor([3., 3.])\n",
      "tensor([0.1000, 0.3000, 1.0000, 0.0000, 1.0000])\n",
      "tensor([0.1000, 0.3000, 1.0000, 0.0000, 1.0000])\n",
      "tensor([0.1000, 0.3000, 0.0000, 0.0000, 0.0000])\n",
      "tensor([1., 3.])\n",
      "tensor([1., 2.])\n"
     ]
    }
   ],
   "source": [
    "#除法\n",
    "x =torch.Tensor([4,9])\n",
    "y = torch.div(x,3)\n",
    "print(y)\n",
    "z = torch.div(x,y)\n",
    "print(z)\n",
    "#计算除法余数fmod和remainder方法,相当于python中的%算子\n",
    "q = torch.Tensor([2.1,2.3,5,6,7])\n",
    "print(torch.fmod(q,2))\n",
    "print(torch.remainder(q,2))\n",
    "#返回浮点数的小数部分\n",
    "print(torch.frac(q))\n",
    "#四舍五入\n",
    "print(torch.round(y))\n",
    "#指数运算\n",
    "a = torch.exp(torch.Tensor([0,math.log(2)]))\n",
    "print(a)"
   ]
  },
  {
   "cell_type": "code",
   "execution_count": 122,
   "metadata": {
    "scrolled": true
   },
   "outputs": [
    {
     "name": "stdout",
     "output_type": "stream",
     "text": [
      "tensor([1., 2.])\n",
      "tensor([1.3133, 2.1269])\n",
      "tensor([1.4427, 2.8854])\n",
      "tensor([0.4343, 0.8686])\n",
      "tensor([2.7183, 7.3891]) tensor([ 7.3891, 54.5982])\n"
     ]
    }
   ],
   "source": [
    "#自然对数\n",
    "x = torch.Tensor([math.e,math.e**2])\n",
    "print(torch.log(x))\n",
    "#对输入x加1平滑处理后再求log\n",
    "print(torch.log1p(x))\n",
    "#2为底的对数\n",
    "print(torch.log2(x))\n",
    "#10为底的对数\n",
    "print(torch.log10(x))\n",
    "#幂运算\n",
    "print(torch.pow(x,1),torch.pow(x,2))"
   ]
  },
  {
   "cell_type": "code",
   "execution_count": 123,
   "metadata": {},
   "outputs": [
    {
     "name": "stdout",
     "output_type": "stream",
     "text": [
      "tensor([10., 10., 10., 10., 10., 10., 10., 10., 10., 10.])\n",
      "tensor([0., 1., 2., 3., 4., 5., 6., 7., 8., 9.])\n",
      "tensor([5.0000, 5.5000, 6.0000, 6.5000, 7.0000, 7.5000, 8.0000, 8.5000, 9.0000,\n",
      "        9.5000])\n"
     ]
    }
   ],
   "source": [
    "#线性插值：outi=starti+weight∗(endi−starti)\n",
    "#带`_`线的方法为in-place类型算子，不会创建新的tensor而是改变原tensor的值\n",
    "x = torch.zeros(10).fill_(10)\n",
    "print(x)\n",
    "y = torch.arange(10).float()\n",
    "print(y)\n",
    "z = torch.lerp(x,y,0.5)\n",
    "print(z)"
   ]
  },
  {
   "cell_type": "code",
   "execution_count": 145,
   "metadata": {},
   "outputs": [
    {
     "name": "stdout",
     "output_type": "stream",
     "text": [
      "tensor([-5., -4., -3., -2., -1.,  0.,  1.,  2.,  3.,  4.])\n",
      "tensor([0.0067, 0.0180, 0.0474, 0.1192, 0.2689, 0.5000, 0.7311, 0.8808, 0.9526,\n",
      "        0.9820])\n",
      "tensor([-1., -1., -1., -1., -1.,  0.,  1.,  1.,  1.,  1.])\n",
      "tensor([-0., -1., -1.,  0.,  2.,  2.])\n"
     ]
    }
   ],
   "source": [
    "#求每个元素的sigmod值\n",
    "#sigmod计算公式为1/(x+maht.e^(-x))\n",
    "#sigmod值位于[0,1],可视为概率值，在激活函数中应用较广\n",
    "x = torch.arange(-5,5,1).float()\n",
    "print(x)\n",
    "print(torch.sigmoid(x))\n",
    "#符号函数，根据元素的正负，返回+1和-1,元素0 返回0\n",
    "print(torch.sign(x))\n",
    "#截断值（标量x的截断值是最接近其的整数，其比x更接近零。简单理解就是截取小数点前面的数）\n",
    "print(torch.trunc(torch.Tensor([-0.9,-1.2,-1.9,0,2.1,2.7])))"
   ]
  },
  {
   "cell_type": "markdown",
   "metadata": {},
   "source": [
    "### 规约计算"
   ]
  },
  {
   "cell_type": "code",
   "execution_count": 188,
   "metadata": {},
   "outputs": [
    {
     "name": "stdout",
     "output_type": "stream",
     "text": [
      "tensor([[2., 3., 4., 5., 6.],\n",
      "        [9., 8., 7., 6., 5.]])\n",
      "tensor([[2.0000e+00, 6.0000e+00, 2.4000e+01, 1.2000e+02, 7.2000e+02],\n",
      "        [9.0000e+00, 7.2000e+01, 5.0400e+02, 3.0240e+03, 1.5120e+04]])\n",
      "tensor([[ 2.,  3.,  4.,  5.,  6.],\n",
      "        [18., 24., 28., 30., 30.]])\n",
      "tensor([[ 2.,  5.,  9., 14., 20.],\n",
      "        [ 9., 17., 24., 30., 35.]])\n",
      "tensor([[ 2.,  3.,  4.,  5.,  6.],\n",
      "        [11., 11., 11., 11., 11.]])\n",
      "tensor([  720., 15120.])\n",
      "tensor([18., 24., 28., 30., 30.])\n",
      "tensor(55.)\n",
      "tensor([20., 35.])\n"
     ]
    }
   ],
   "source": [
    "#计算累积(Cumulative),可以通过dim指定沿着某一个维度计算累积\n",
    "x = torch.Tensor([[2,3,4,5,6],[9,8,7,6,5]])\n",
    "print(x)\n",
    "print(torch.cumprod(x,dim=1))\n",
    "print(torch.cumprod(x,dim=0))\n",
    "#计算累和\n",
    "print(torch.cumsum(x,dim=1))\n",
    "print(torch.cumsum(x,dim=0))\n",
    "#计算所有元素的乘积\n",
    "print(torch.prod(x,dim=1))\n",
    "print(torch.prod(x,dim=0))\n",
    "#计算所有元素的和\n",
    "print(torch.sum(x))\n",
    "print(torch.sum(x,dim=1))"
   ]
  },
  {
   "cell_type": "code",
   "execution_count": 174,
   "metadata": {},
   "outputs": [
    {
     "name": "stdout",
     "output_type": "stream",
     "text": [
      "tensor(2.)\n",
      "tensor(8.)\n",
      "tensor(5.8310)\n",
      "tensor(5.)\n",
      "tensor([20., 35.])\n",
      "tensor([11., 11., 11., 11., 11.])\n",
      "tensor([ 9.4868, 15.9687])\n",
      "tensor([9.2195, 8.5440, 8.0623, 7.8102, 7.8102])\n"
     ]
    }
   ],
   "source": [
    "#距离公式，常用于模型损失值的计算。计算采用p-norm范数。p=1为曼哈顿距离；p=2为欧氏距离,默认为计算欧式距离\n",
    "x = torch.Tensor([[2,3,4,5,6],[9,8,7,6,5]])\n",
    "y = torch.Tensor([[2,3,4,5,6],[4,5,7,6,5]])\n",
    "print(torch.dist(x,y,p=0))\n",
    "print(torch.dist(x,y,p=1))\n",
    "print(torch.dist(x,y,p=2))\n",
    "print(torch.dist(x,y,np.inf))\n",
    "#norm范数\n",
    "print(torch.norm(x,p=1,dim=1))\n",
    "print(torch.norm(x,p=1,dim=0))\n",
    "print(torch.norm(x,p=2,dim=1))\n",
    "print(torch.norm(x,p=2,dim=0))"
   ]
  },
  {
   "cell_type": "code",
   "execution_count": 196,
   "metadata": {},
   "outputs": [
    {
     "name": "stdout",
     "output_type": "stream",
     "text": [
      "tensor(5.5000)\n",
      "tensor([4., 7.])\n",
      "tensor([5.5000, 5.5000, 5.5000, 5.5000, 5.5000])\n",
      "tensor(5.)\n",
      "(tensor([4., 7.]), tensor([2, 2]))\n",
      "(tensor([2., 5.]), tensor([0, 4]))\n",
      "tensor(4.7222)\n",
      "tensor([24.5000, 12.5000,  4.5000,  0.5000,  0.5000])\n",
      "tensor(2.1731)\n",
      "tensor([4.9497, 3.5355, 2.1213, 0.7071, 0.7071])\n"
     ]
    }
   ],
   "source": [
    "#均值·中位数·众数·方差·标准差\n",
    "#均值\n",
    "x = torch.Tensor([[2,3,4,5,6],[9,8,7,6,5]])\n",
    "print(torch.mean(x))\n",
    "print(torch.mean(x,dim=1))\n",
    "print(torch.mean(x,dim=0))\n",
    "#中位数，指定dim将返回两个tensor，第一个是中位数，第二个tensor为index索引\n",
    "print(torch.median(x))\n",
    "print(torch.median(x,dim=1))\n",
    "#众数\n",
    "print(torch.mode(x))\n",
    "#方差\n",
    "print(torch.var(x))\n",
    "print(torch.var(x,dim=0))\n",
    "#标准差\n",
    "print(torch.std(x))\n",
    "print(torch.std(x,dim=0))"
   ]
  },
  {
   "cell_type": "markdown",
   "metadata": {},
   "source": [
    "### 数值比较运算"
   ]
  },
  {
   "cell_type": "code",
   "execution_count": 213,
   "metadata": {},
   "outputs": [
    {
     "name": "stdout",
     "output_type": "stream",
     "text": [
      "tensor([[1, 0, 1],\n",
      "        [1, 0, 1]], dtype=torch.uint8)\n",
      "True\n",
      "False\n",
      "tensor([[1, 0, 1],\n",
      "        [1, 0, 1]], dtype=torch.uint8)\n",
      "tensor([[0, 0, 0],\n",
      "        [0, 0, 0]], dtype=torch.uint8)\n",
      "tensor([[1, 1, 1],\n",
      "        [1, 1, 1]], dtype=torch.uint8)\n",
      "tensor([[0, 1, 0],\n",
      "        [0, 1, 0]], dtype=torch.uint8)\n",
      "tensor([[0, 1, 0],\n",
      "        [0, 1, 0]], dtype=torch.uint8)\n"
     ]
    }
   ],
   "source": [
    "#元素相等比较，相等返回1，不相等返回0\n",
    "x = torch.Tensor([[2,3,5],[4,7,9]])\n",
    "y = torch.Tensor([[2,4,5],[4,8,9]])\n",
    "z = torch.Tensor([[2,3,5],[4,7,9]])\n",
    "print(torch.eq(x,y))\n",
    "#比较两个Tensor是否相等\n",
    "print(torch.equal(x,z))\n",
    "print(torch.equal(x,y))\n",
    "#逐一比较tensor1中元素是否大于等于tensor2中元素。\n",
    "print(torch.ge(x,y))\n",
    "#逐一比较tensor1中元素是否大于tensor2中元素。\n",
    "print(torch.gt(x,y))\n",
    "#逐一比较tensor1中元素是否小于等于tensor2中的元素\n",
    "print(torch.le(x,y))\n",
    "#逐一比较tensor1中元素是否小于tensor2中元素。\n",
    "print(torch.lt(x,y))\n",
    "#逐一比较两个tensor值不相等\n",
    "print(torch.ne(x,y))"
   ]
  },
  {
   "cell_type": "code",
   "execution_count": 212,
   "metadata": {},
   "outputs": [
    {
     "name": "stdout",
     "output_type": "stream",
     "text": [
      "tensor(9.)\n",
      "(tensor([5., 9.]), tensor([2, 2]))\n",
      "tensor(2.)\n",
      "(tensor([2., 3., 5.]), tensor([0, 0, 0]))\n"
     ]
    }
   ],
   "source": [
    "#最大值·最小值\n",
    "x = torch.Tensor([[2,3,5],[4,7,9]])\n",
    "print(torch.max(x))\n",
    "#若指定了dim，返回两个tensor，第一个tensor为指定维度上的最大值；第二个tensor为指定维度上对应最大值所在的索引\n",
    "print(torch.max(x,dim=1))\n",
    "#最小值\n",
    "print(torch.min(x))\n",
    "print(torch.min(x,dim=0))"
   ]
  },
  {
   "cell_type": "code",
   "execution_count": 218,
   "metadata": {},
   "outputs": [
    {
     "name": "stdout",
     "output_type": "stream",
     "text": [
      "(tensor([[ 3.,  5., 20.],\n",
      "        [ 4.,  9., 70.]]), tensor([[1, 2, 0],\n",
      "        [0, 2, 1]]))\n",
      "(tensor([[20., 70.,  9.],\n",
      "        [ 4.,  3.,  5.]]), tensor([[0, 1, 1],\n",
      "        [1, 0, 0]]))\n"
     ]
    }
   ],
   "source": [
    "#排序\n",
    "x = torch.Tensor([[20,3,5],[4,70,9]])\n",
    "#不指定dim，则默认按shape(-1)最后维度所在的方向进行升序排列；返回值第二个tensor为排序索引组成的tensor\n",
    "print(torch.sort(x))\n",
    "#指定descending关键字参数，设定升序还是降序\n",
    "print(torch.sort(x,dim=0,descending=True))"
   ]
  },
  {
   "cell_type": "code",
   "execution_count": 224,
   "metadata": {},
   "outputs": [
    {
     "name": "stdout",
     "output_type": "stream",
     "text": [
      "(tensor([[20.,  5.],\n",
      "        [70.,  9.]]), tensor([[0, 2],\n",
      "        [1, 2]]))\n",
      "(tensor([[3., 5.],\n",
      "        [4., 9.]]), tensor([[1, 2],\n",
      "        [0, 2]]))\n",
      "(tensor([[20., 70.,  9.],\n",
      "        [ 4.,  3.,  5.]]), tensor([[0, 1, 1],\n",
      "        [1, 0, 0]]))\n",
      "(tensor([[20.,  5.],\n",
      "        [70.,  9.]]), tensor([[0, 2],\n",
      "        [1, 2]]))\n"
     ]
    }
   ],
   "source": [
    "#topK选择最大的或者最小的K个元素作为返回值\n",
    "x = torch.Tensor([[20,3,5],[4,70,9]])\n",
    "#k关键字参数指定返回最大后最小的几个元素,默认取最大的元素\n",
    "print(torch.topk(x,k=2))\n",
    "#largest设置为false表示取最小的topk值\n",
    "print(torch.topk(x,k=2,largest=False))\n",
    "#指定dim关键字参数则表示沿着dim维度所在的方向取topk\n",
    "print(torch.topk(x,k=2,dim=0))\n",
    "print(torch.topk(x,k=2,dim=1))"
   ]
  },
  {
   "cell_type": "code",
   "execution_count": 376,
   "metadata": {},
   "outputs": [
    {
     "name": "stdout",
     "output_type": "stream",
     "text": [
      "tensor([19., 16., 21., 19., 19., 18., 15., 29., 23., 21.])\n"
     ]
    },
    {
     "data": {
      "image/png": "[encoded data removed]",
      "text/plain": [
       "<Figure size 432x288 with 1 Axes>"
      ]
     },
     "metadata": {
      "needs_background": "light"
     },
     "output_type": "display_data"
    }
   ],
   "source": [
    "#直方图操作\n",
    "#计算输入张量的直方图。以min和max为range边界，将其均分成bins个直条，然后将排序好的数据划分到各个直条(bins)中。\n",
    "#如果min和max都为0, 则利用数据中的最大最小值作为边界。\n",
    "x = torch.rand(200)\n",
    "y = torch.histc(x,min=0,max=1,bins=10)\n",
    "print(y)\n",
    "plt.hist(y)\n",
    "plt.show()"
   ]
  },
  {
   "cell_type": "markdown",
   "metadata": {},
   "source": [
    "### 矩阵运算"
   ]
  },
  {
   "cell_type": "code",
   "execution_count": 251,
   "metadata": {},
   "outputs": [
    {
     "name": "stdout",
     "output_type": "stream",
     "text": [
      "tensor([0.5476, 0.7343])\n",
      "tensor([[0.5476, 0.0000],\n",
      "        [0.0000, 0.7343]])\n",
      "tensor([[0.0000, 0.0000, 0.5476, 0.0000],\n",
      "        [0.0000, 0.0000, 0.0000, 0.7343],\n",
      "        [0.0000, 0.0000, 0.0000, 0.0000],\n",
      "        [0.0000, 0.0000, 0.0000, 0.0000]])\n",
      "tensor([[0.0000, 0.0000, 0.0000],\n",
      "        [0.5476, 0.0000, 0.0000],\n",
      "        [0.0000, 0.7343, 0.0000]])\n"
     ]
    }
   ],
   "source": [
    "#对角矩阵\n",
    "a = torch.rand(2)\n",
    "print(a)\n",
    "#diag设置对角矩阵，diagnal等于0，设置主对角线\n",
    "x = torch.diag(a,diagonal=0)\n",
    "print(x)\n",
    "#diagnal大于0，设置主对角线之上diagnal对应位置的值\n",
    "x = torch.diag(a,diagonal=2)\n",
    "print(x)\n",
    "#diagnal小于0，设置主对角线之下diagnal对应的值\n",
    "x = torch.diag(a,diagonal=-1)\n",
    "print(x)"
   ]
  },
  {
   "cell_type": "code",
   "execution_count": 289,
   "metadata": {},
   "outputs": [
    {
     "name": "stdout",
     "output_type": "stream",
     "text": [
      "tensor([[2.0000, 2.2200, 2.2220]])\n",
      "tensor([[0.6209, 0.6892, 0.6898]])\n",
      "tensor([[0.5371, 0.5962, 0.5967]])\n"
     ]
    }
   ],
   "source": [
    "#数据按维度规范\n",
    "x = torch.Tensor([[2,2.22,2.222]])\n",
    "print(x)\n",
    "#p指定p-norm范数，dim指定方向，maxnorm指定p-norm范数的最大值\n",
    "print(torch.renorm(x,p=1,dim=0,maxnorm=2))\n",
    "print(torch.renorm(x,p=2,dim=0,maxnorm=1))"
   ]
  },
  {
   "cell_type": "code",
   "execution_count": 294,
   "metadata": {},
   "outputs": [
    {
     "name": "stdout",
     "output_type": "stream",
     "text": [
      "tensor([[-0.1204, -0.6686,  0.0600, -1.4658],\n",
      "        [ 1.5003, -0.8799,  2.1509,  0.2911]])\n",
      "tensor(-1.0003)\n"
     ]
    }
   ],
   "source": [
    "#矩阵的迹\n",
    "#二维矩阵主对角线上元素之和\n",
    "x = torch.randn(2,4)\n",
    "print(x)\n",
    "print(torch.trace(x))"
   ]
  },
  {
   "cell_type": "code",
   "execution_count": 302,
   "metadata": {},
   "outputs": [
    {
     "name": "stdout",
     "output_type": "stream",
     "text": [
      "tensor([[0.7409, 0.0000, 0.0000, 0.0000, 0.0000],\n",
      "        [0.8660, 0.2698, 0.0000, 0.0000, 0.0000]])\n",
      "tensor([[ 0.7409,  0.4724, -0.5798,  0.0000,  0.0000],\n",
      "        [ 0.8660,  0.2698,  0.7263, -0.8031,  0.0000]])\n",
      "tensor([[0.0000, 0.0000, 0.0000, 0.0000, 0.0000],\n",
      "        [0.8660, 0.0000, 0.0000, 0.0000, 0.0000]])\n",
      "tensor([[ 0.7409,  0.4724, -0.5798, -0.2482,  0.9088],\n",
      "        [ 0.0000,  0.2698,  0.7263, -0.8031, -1.6912]])\n",
      "tensor([[0.0000, 0.0000, 0.0000, 0.0000, 0.9088],\n",
      "        [0.0000, 0.0000, 0.0000, 0.0000, 0.0000]])\n",
      "tensor([[ 0.7409,  0.4724, -0.5798, -0.2482,  0.9088],\n",
      "        [ 0.8660,  0.2698,  0.7263, -0.8031, -1.6912]])\n"
     ]
    }
   ],
   "source": [
    "#下三角矩阵\n",
    "#参数diagonal控制对角线: diagonal = 0, 主对角线 ;diagonal > 0, 主对角线之上 ;diagonal < 0, 主对角线之下\n",
    "x = torch.randn(2,5)\n",
    "print(torch.tril(x))\n",
    "print(torch.tril(x,diagonal=2))\n",
    "print(torch.tril(x,diagonal=-1))\n",
    "#上三角矩阵\n",
    "#参数diagonal控制对角线: diagonal = 0, 主对角线 ;diagonal > 0, 主对角线之上 ;diagonal < 0, 主对角线之下\n",
    "print(torch.triu(x))\n",
    "print(torch.triu(x,diagonal=4))\n",
    "print(torch.triu(x,diagonal=-1))"
   ]
  },
  {
   "cell_type": "code",
   "execution_count": 375,
   "metadata": {},
   "outputs": [
    {
     "name": "stdout",
     "output_type": "stream",
     "text": [
      "torch.Size([1, 2, 3])\n",
      "torch.Size([1, 3, 1])\n",
      "tensor([[[ 46.],\n",
      "         [118.]]]) tensor([ 46., 118.])\n",
      "tensor([[ 46.],\n",
      "        [118.]])\n",
      "tensor(20.)\n"
     ]
    }
   ],
   "source": [
    "#bmm矩阵乘积\n",
    "#矩阵A的列数需等于矩阵B的行数\n",
    "#1*2*3\n",
    "x = torch.Tensor([[[1,2,3],[4,5,6]]])\n",
    "print(x.shape)\n",
    "#1*3*1\n",
    "y = torch.Tensor([[[9],[8],[7]]])\n",
    "print(y.shape)\n",
    "#res 1*2*1\n",
    "print(torch.bmm(x,y),torch.bmm(x,y).squeeze(0).squeeze(1))\n",
    "#注意和mm的区别bmm为batch matrix multiplication,二mm维matrix multiplication\n",
    "print(torch.mm(x.squeeze(0),y.squeeze(0)))\n",
    "#计算两个一维张量的点积torch.dot,两个向量对应位置相乘再相加\n",
    "x = torch.Tensor([1,2,3,4])\n",
    "y = torch.Tensor([4,3,2,1])\n",
    "print(torch.dot(x,y))"
   ]
  },
  {
   "cell_type": "code",
   "execution_count": 323,
   "metadata": {},
   "outputs": [
    {
     "name": "stdout",
     "output_type": "stream",
     "text": [
      "torch.Size([1, 2])\n",
      "torch.Size([1, 3])\n",
      "torch.Size([3, 2])\n",
      "tensor([[110.1000, 140.2000]])\n"
     ]
    }
   ],
   "source": [
    "#矩阵相乘再相加\n",
    "#addmm方法用于两个矩阵相乘结果再加到M矩阵，用beta调节M矩阵权重；用alpha调节矩阵乘积结果系数。\n",
    "#两个相乘的矩阵维度为2，分别表示[width，length]，第一个矩阵的length应该等于第二个矩阵的width满足矩阵相乘条件\n",
    "#out=(beta∗M)+(alpha∗mat1·mat2)\n",
    "x = torch.Tensor([[1,2]])\n",
    "print(x.shape)\n",
    "#batch1:1*1*3\n",
    "batch1 = torch.Tensor([[1,2,3]])\n",
    "print(batch1.shape)\n",
    "#batch2:1*3*2\n",
    "batch2 = torch.Tensor([[1,2],[3,4],[5,6]])\n",
    "print(batch2.shape)\n",
    "print(torch.addmm(x,batch1,batch2,beta=0.1,alpha=5))"
   ]
  },
  {
   "cell_type": "code",
   "execution_count": 324,
   "metadata": {},
   "outputs": [
    {
     "name": "stdout",
     "output_type": "stream",
     "text": [
      "torch.Size([1, 2])\n",
      "torch.Size([1, 1, 3])\n",
      "torch.Size([1, 3, 2])\n",
      "tensor([[220.1000, 280.2000]])\n"
     ]
    }
   ],
   "source": [
    "#批矩阵相乘再相加\n",
    "#addbmm方法用于批矩阵相乘结果再加到M矩阵，用beta调节M矩阵权重；用alpha调节矩阵乘积结果系数。\n",
    "#两个相乘的矩阵维度为3，分别表示[batchsize,width，length]，第一个矩阵的length应该等于第二个矩阵的width满足矩阵相乘条件\n",
    "#两个相乘矩阵batchsize应该相等。\n",
    "#res=(beta∗M)+(alpha∗sum(batch1i·batch2i,i=0,b))\n",
    "#1*2\n",
    "x = torch.Tensor([[1,2]])\n",
    "print(x.shape)\n",
    "#batch1:1*1*3\n",
    "batch1 = torch.Tensor([[[1,2,3]]])\n",
    "print(batch1.shape)\n",
    "#batch2:1*3*2\n",
    "batch2 = torch.Tensor([[[1,2],[3,4],[5,6]]])\n",
    "print(batch2.shape)\n",
    "print(torch.addbmm(x,batch1,batch2,beta=0.1,alpha=10))"
   ]
  },
  {
   "cell_type": "code",
   "execution_count": 352,
   "metadata": {},
   "outputs": [
    {
     "name": "stdout",
     "output_type": "stream",
     "text": [
      "torch.Size([3])\n",
      "torch.Size([3, 1])\n",
      "torch.Size([1])\n",
      "tensor([130., 260., 390.])\n"
     ]
    }
   ],
   "source": [
    "#矩阵乘向量再相加\n",
    "#addmv方法用于矩阵和向量相乘结果再加到M矩阵，用beta调节M矩阵权重；用alpha调节矩阵同向量乘积结果。\n",
    "#矩阵的列应该等于向量长度以满足相乘条件\n",
    "# out=(beta∗tensor)+(alpha∗(mat·vec))\n",
    "#1*3\n",
    "x = torch.Tensor([1,2,3])\n",
    "print(x.shape)\n",
    "#batch1:1*3\n",
    "mat = torch.Tensor([[1],[2],[3]])\n",
    "print(mat.shape)\n",
    "#batch2:\n",
    "vec = torch.Tensor([3])\n",
    "print(vec.shape)\n",
    "print(torch.addmv(x,mat,vec,beta=100,alpha=10))"
   ]
  },
  {
   "cell_type": "code",
   "execution_count": 373,
   "metadata": {},
   "outputs": [
    {
     "name": "stdout",
     "output_type": "stream",
     "text": [
      "(tensor([[19.0221,  0.0000],\n",
      "        [ 6.1871,  0.0000],\n",
      "        [-2.2092,  0.0000]]), tensor([]))\n",
      "(tensor([[19.0221,  0.0000],\n",
      "        [ 6.1871,  0.0000],\n",
      "        [-2.2092,  0.0000]]), tensor([[ 0.3385,  0.7846, -0.0528],\n",
      "        [ 0.5373, -0.4213, -0.7286],\n",
      "        [ 0.7725, -0.4548,  0.6829]]))\n"
     ]
    }
   ],
   "source": [
    "#计算方阵的特征值和特征向量(eigenvector)\n",
    "#eigenvectors (bool) – 布尔值，如果True，则同时计算特征值和特征向量，否则只计算特征值。\n",
    "x = torch.Tensor([[9,2,3],[4,5,8],[7,10,9]])\n",
    "print(torch.eig(x))\n",
    "print(torch.eig(x,eigenvectors=True))"
   ]
  },
  {
   "cell_type": "code",
   "execution_count": null,
   "metadata": {},
   "outputs": [],
   "source": []
  }
 ],
 "metadata": {
  "kernelspec": {
   "display_name": "Python 3",
   "language": "python",
   "name": "python3"
  },
  "language_info": {
   "codemirror_mode": {
    "name": "ipython",
    "version": 3
   },
   "file_extension": ".py",
   "mimetype": "text/x-python",
   "name": "python",
   "nbconvert_exporter": "python",
   "pygments_lexer": "ipython3",
   "version": "3.7.3"
  }
 },
 "nbformat": 4,
 "nbformat_minor": 2
}
