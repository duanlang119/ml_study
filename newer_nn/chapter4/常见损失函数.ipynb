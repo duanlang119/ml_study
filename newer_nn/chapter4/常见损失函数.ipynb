{
 "cells": [
  {
   "cell_type": "code",
   "execution_count": 32,
   "metadata": {},
   "outputs": [],
   "source": [
    "import torch\n",
    "import torch.nn as nn\n",
    "import numpy as np\n",
    "import math"
   ]
  },
  {
   "cell_type": "code",
   "execution_count": 16,
   "metadata": {},
   "outputs": [
    {
     "name": "stdout",
     "output_type": "stream",
     "text": [
      "0.3333333432674408\n"
     ]
    }
   ],
   "source": [
    "#L1范数损失\n",
    "x = torch.Tensor([1,2,3])\n",
    "target = torch.Tensor([2,2,3])\n",
    "criterion = nn.L1Loss()\n",
    "loss = criterion(x,target)\n",
    "print(loss.item())"
   ]
  },
  {
   "cell_type": "code",
   "execution_count": 19,
   "metadata": {},
   "outputs": [
    {
     "name": "stdout",
     "output_type": "stream",
     "text": [
      "0.16833333671092987\n"
     ]
    }
   ],
   "source": [
    "#SmoothL1Loss\n",
    "x = torch.Tensor([1,2.1,3])\n",
    "target = torch.Tensor([2,2,3])\n",
    "criterion = nn.SmoothL1Loss()\n",
    "loss = criterion(x,target)\n",
    "print(loss.item())"
   ]
  },
  {
   "cell_type": "code",
   "execution_count": 25,
   "metadata": {},
   "outputs": [
    {
     "name": "stdout",
     "output_type": "stream",
     "text": [
      "0.33666667342185974\n"
     ]
    }
   ],
   "source": [
    "#MSE Loss\n",
    "x = torch.Tensor([1,2.1,3])\n",
    "target = torch.Tensor([2,2,3])\n",
    "criterion = nn.MSELoss()\n",
    "loss = criterion(x,target)\n",
    "print(loss.item())"
   ]
  },
  {
   "cell_type": "code",
   "execution_count": 103,
   "metadata": {},
   "outputs": [
    {
     "name": "stdout",
     "output_type": "stream",
     "text": [
      "0.1774960607290268\n",
      "0.5726836323738098\n"
     ]
    }
   ],
   "source": [
    "#BCE二分类损失\n",
    "target =torch.Tensor([0,0,1,1,0,1])\n",
    "predict = torch.Tensor([0.3,0.2,0.8,0.9,0.1,0.95])\n",
    "criterion = nn.BCELoss()\n",
    "loss = criterion(predict,target)\n",
    "print(loss.item())\n",
    "bce_with_logits_loss = nn.BCEWithLogitsLoss()\n",
    "print(bce_with_logits_loss(predict,target).item())"
   ]
  },
  {
   "cell_type": "code",
   "execution_count": 88,
   "metadata": {},
   "outputs": [
    {
     "name": "stdout",
     "output_type": "stream",
     "text": [
      "tensor([0.9459, 0.6897])\n",
      "tensor(0.8178)\n",
      "tensor(1.6356)\n"
     ]
    }
   ],
   "source": [
    "#CrossEntropyLoss\n",
    "predict = torch.Tensor([[0.1,0.5,0.4],[0.1,0.1,0.8]])\n",
    "label = torch.LongTensor([1,2])\n",
    "loss = nn.CrossEntropyLoss(reduction=\"none\")\n",
    "print(loss(predict,label))\n",
    "loss = nn.CrossEntropyLoss(reduction=\"mean\")\n",
    "print(loss(predict,label))\n",
    "loss = nn.CrossEntropyLoss(reduction=\"sum\")\n",
    "print(loss(predict,label))"
   ]
  },
  {
   "cell_type": "code",
   "execution_count": 100,
   "metadata": {},
   "outputs": [
    {
     "name": "stdout",
     "output_type": "stream",
     "text": [
      "step1 softmax:tensor([[0.2603, 0.3883, 0.3514],\n",
      "        [0.2491, 0.2491, 0.5017]])\n",
      "step2 log:tensor([[-1.3459, -0.9459, -1.0459],\n",
      "        [-1.3897, -1.3897, -0.6897]])\n",
      "step3 nll_loss:0.8178186416625977\n"
     ]
    }
   ],
   "source": [
    "#softmax/log/nllloss\n",
    "import torch.nn.functional as F\n",
    "predict = torch.Tensor([[0.1,0.5,0.4],[0.1,0.1,0.8]])\n",
    "label = torch.LongTensor([1,2])\n",
    "softmax = torch.softmax(predict,dim=1)\n",
    "print(\"step1 softmax:{}\".format(softmax))\n",
    "_log = torch.log(softmax)\n",
    "print(\"step2 log:{}\".format(_log))\n",
    "nll_loss = F.nll_loss(_log,label)\n",
    "print(\"step3 nll_loss:{}\".format(nll_loss))"
   ]
  },
  {
   "cell_type": "code",
   "execution_count": 127,
   "metadata": {},
   "outputs": [
    {
     "data": {
      "text/plain": [
       "-0.42444947361946106"
      ]
     },
     "execution_count": 127,
     "metadata": {},
     "output_type": "execute_result"
    }
   ],
   "source": [
    "#KLDivLoss\n",
    "predict = torch.Tensor([0.1,0.5,0.4])\n",
    "label = torch.Tensor([0.4,0.5,0.1])\n",
    "loss = nn.KLDivLoss()\n",
    "loss(label,predict).item()"
   ]
  },
  {
   "cell_type": "code",
   "execution_count": 162,
   "metadata": {},
   "outputs": [
    {
     "data": {
      "text/plain": [
       "0.3928571045398712"
      ]
     },
     "execution_count": 162,
     "metadata": {},
     "output_type": "execute_result"
    }
   ],
   "source": [
    "#CosineEmbeddingLoss\n",
    "x = torch.Tensor([[0.1,0.5,0.4],[0.1,0.5,0.4]])\n",
    "y = torch.Tensor([[0.4,0.5,0.1],[0.1,0.5,0.4]])\n",
    "label = torch.Tensor([-1,1])\n",
    "loss = nn.CosineEmbeddingLoss()\n",
    "loss(x,y,label).item()"
   ]
  },
  {
   "cell_type": "code",
   "execution_count": 223,
   "metadata": {},
   "outputs": [
    {
     "data": {
      "image/png": "[encoded data removed]",
      "text/plain": [
       "<IPython.core.display.Image object>"
      ]
     },
     "execution_count": 223,
     "metadata": {},
     "output_type": "execute_result"
    }
   ],
   "source": [
    "#MultiLabelMarginLoss\n",
    "from IPython.display import Image\n",
    "Image(\"./imgs/1.png\")\n",
    "#input : x --> (N, c), y --> (N, c)其中y是 LongTensor, 且其元素为类别的index"
   ]
  },
  {
   "cell_type": "code",
   "execution_count": 257,
   "metadata": {},
   "outputs": [
    {
     "data": {
      "text/plain": [
       "4.257142543792725"
      ]
     },
     "execution_count": 257,
     "metadata": {},
     "output_type": "execute_result"
    }
   ],
   "source": [
    "loss = torch.nn.MultiLabelMarginLoss()\n",
    "x = torch.FloatTensor([[0.1, 0.2, 0.4, 0.8,1.1,4,7]])\n",
    "y = torch.LongTensor([[5, 4,3,0,-1,1,2]])\n",
    "loss(x, y).item()"
   ]
  },
  {
   "cell_type": "code",
   "execution_count": 258,
   "metadata": {},
   "outputs": [
    {
     "data": {
      "text/plain": [
       "25.700000000000003"
      ]
     },
     "execution_count": 258,
     "metadata": {},
     "output_type": "execute_result"
    }
   ],
   "source": [
    "#5,4,3,0 为正确类别索引  1,2,6为错误类别索引\n",
    "(1-(4-0.2))+(1-(1.1-0.2))+(1-(0.8-0.2))+(1-(0.1-0.2))\n",
    "(1-(4-0.4))+(1-(1.1-0.4))+(1-(0.8-0.4))+(1-(0.1-0.4))\n",
    "(1-(4-7))+(1-(1.1-7))+(1-(0.8-7))+(1-(0.1-7))"
   ]
  },
  {
   "cell_type": "code",
   "execution_count": 269,
   "metadata": {},
   "outputs": [
    {
     "data": {
      "text/plain": [
       "4.257142857142857"
      ]
     },
     "execution_count": 269,
     "metadata": {},
     "output_type": "execute_result"
    }
   ],
   "source": [
    "(0+0.1+0.4+1.1+0+0.3+0.6+1.3+4+6.9+7.2+7.9)/7"
   ]
  }
 ],
 "metadata": {
  "kernelspec": {
   "display_name": "Python 3",
   "language": "python",
   "name": "python3"
  },
  "language_info": {
   "codemirror_mode": {
    "name": "ipython",
    "version": 3
   },
   "file_extension": ".py",
   "mimetype": "text/x-python",
   "name": "python",
   "nbconvert_exporter": "python",
   "pygments_lexer": "ipython3",
   "version": "3.7.3"
  }
 },
 "nbformat": 4,
 "nbformat_minor": 2
}
